{
 "cells": [
  {
   "cell_type": "markdown",
   "id": "f2f34f7e",
   "metadata": {},
   "source": [
    "# Init"
   ]
  },
  {
   "cell_type": "code",
   "execution_count": 1,
   "id": "ec9ac2b4",
   "metadata": {},
   "outputs": [
    {
     "data": {
      "text/plain": [
       "'/Users/wliao0504/code/clif/CLIF-epi-of-sedation'"
      ]
     },
     "execution_count": 1,
     "metadata": {},
     "output_type": "execute_result"
    }
   ],
   "source": [
    "import os\n",
    "os.chdir('..')\n",
    "os.getcwd()"
   ]
  },
  {
   "cell_type": "markdown",
   "id": "efb142c5",
   "metadata": {},
   "source": [
    "## Import"
   ]
  },
  {
   "cell_type": "code",
   "execution_count": null,
   "id": "490a8a86",
   "metadata": {},
   "outputs": [],
   "source": [
    "from clifpy import ClifOrchestrator\n",
    "import pandas as pd\n",
    "import duckdb\n",
    "from pathlib import Path"
   ]
  },
  {
   "cell_type": "code",
   "execution_count": 3,
   "id": "d9f7fac2",
   "metadata": {},
   "outputs": [],
   "source": [
    "site = 'mimic'"
   ]
  },
  {
   "cell_type": "markdown",
   "id": "435fd20c",
   "metadata": {},
   "source": [
    "## Utils"
   ]
  },
  {
   "cell_type": "code",
   "execution_count": null,
   "id": "4c0ae278",
   "metadata": {},
   "outputs": [],
   "source": [
    "def run_query_from_file(sql_file_path: str) -> pd.DataFrame:\n",
    "    \"\"\"\n",
    "    Loads a query from a .sql file and executes it using the given DuckDB connection.\n",
    "\n",
    "    Args:\n",
    "        con: An active DuckDB connection.\n",
    "        sql_file_path: The absolute path to the .sql file.\n",
    "\n",
    "    Returns:\n",
    "        A pandas DataFrame with the results of the query.\n",
    "    \"\"\"\n",
    "    print(f\"--- Loading and executing query from {sql_file_path} ---\")\n",
    "    \n",
    "    # Read the entire content of the .sql file\n",
    "    query = Path(sql_file_path).read_text()\n",
    "\n",
    "    # Execute the query and return as a pandas DataFrame\n",
    "    result_df = duckdb.sql(query).df()\n",
    "\n",
    "    print(\"Query executed successfully.\")\n",
    "    return result_df"
   ]
  },
  {
   "cell_type": "markdown",
   "id": "d09dda33",
   "metadata": {},
   "source": [
    "# Proprocess"
   ]
  },
  {
   "cell_type": "code",
   "execution_count": 4,
   "id": "fa6c98c3",
   "metadata": {},
   "outputs": [],
   "source": [
    "cohort_hosp_ids_df = pd.read_csv('data/cohort_hosp_ids.csv')\n",
    "cohort_hosp_ids = cohort_hosp_ids_df['hospitalization_id'].astype(str).tolist()"
   ]
  },
  {
   "cell_type": "markdown",
   "id": "4212d38a",
   "metadata": {},
   "source": [
    "## Resp"
   ]
  },
  {
   "cell_type": "code",
   "execution_count": 5,
   "id": "fbdb8d07",
   "metadata": {},
   "outputs": [
    {
     "name": "stdout",
     "output_type": "stream",
     "text": [
      "📢 ClifOrchestrator initialized\n",
      "📢 Initialized respiratory_support table\n",
      "📢 Data directory: /Users/wliao0504/code/clif/CLIF-MIMIC/output/rclif-dev-test\n",
      "📢 File type: parquet\n",
      "📢 Timezone: US/Eastern\n",
      "📢 Output directory: /Users/wliao0504/code/clif/CLIF-epi-of-sedation/output\n",
      "📢 Loaded schema from /Users/wliao0504/code/clif/CLIF-epi-of-sedation/.venv/lib/python3.12/site-packages/clifpy/schemas/respiratory_support_schema.yaml\n",
      "📢 Loaded outlier configuration\n"
     ]
    }
   ],
   "source": [
    "co = ClifOrchestrator(config_path=\"config/mimic_config.json\")\n",
    "co.initialize(tables = ['respiratory_support'])"
   ]
  },
  {
   "cell_type": "code",
   "execution_count": 6,
   "id": "8d1ccb59",
   "metadata": {},
   "outputs": [],
   "source": [
    "# processed_bf = co.respiratory_support.waterfall(bfill = True)"
   ]
  },
  {
   "cell_type": "code",
   "execution_count": 7,
   "id": "60c0ec11",
   "metadata": {},
   "outputs": [],
   "source": [
    "# processed_bf.df.to_parquet(f\"output/intermediate/{site}_resp_processed_bf.parquet\")"
   ]
  },
  {
   "cell_type": "code",
   "execution_count": 8,
   "id": "2b18ac2e",
   "metadata": {},
   "outputs": [],
   "source": [
    "# resp_p = processed_bf.df\n",
    "resp_p = pd.read_parquet(f\"output/intermediate/{site}_resp_processed_bf.parquet\")"
   ]
  },
  {
   "cell_type": "code",
   "execution_count": null,
   "id": "169e00c7",
   "metadata": {},
   "outputs": [],
   "source": [
    "q = f\"\"\"\n",
    "SELECT hospitalization_id\n",
    "    , recorded_dttm\n",
    "    , device_category, device_name\n",
    "    , mode_category, mode_name\n",
    "    , fio2_set\n",
    "    , peep_set\n",
    "    , tracheostomy\n",
    "    , _mode_prev: LAG(mode_category) OVER (PARTITION BY hospitalization_id ORDER BY recorded_dttm)\n",
    "    , _switch_to_ps_cpap: CASE \n",
    "        -- last mode is a control mode\n",
    "        WHEN contains(_mode_prev, 'control') \n",
    "            AND mode_category in ('pressure support/cpap') \n",
    "            THEN 1 ELSE 0 END\n",
    "    , \n",
    "FROM resp_p\n",
    "INNER JOIN cohort_hosp_ids_df USING (hospitalization_id)\n",
    "WHERE hospitalization_id in ('20001361', '20004088', '20005024')\n",
    "\"\"\"\n",
    "resp_view_0 = duckdb.sql(q).df()"
   ]
  },
  {
   "cell_type": "code",
   "execution_count": 63,
   "id": "48e45789",
   "metadata": {},
   "outputs": [],
   "source": [
    "q = f\"\"\"\n",
    "WITH base AS (\n",
    "    FROM resp_p\n",
    "    INNER JOIN cohort_hosp_ids_df USING (hospitalization_id)\n",
    "    SELECT hospitalization_id\n",
    "         , recorded_dttm\n",
    "         , device_category, device_name\n",
    "         , mode_category, mode_name\n",
    "         , mode_cat_id\n",
    "         , fio2_set\n",
    "         , peep_set\n",
    "         , pressure_support_set\n",
    "         , tracheostomy\n",
    "         , _mode_prev: LAG(mode_category) OVER w_mode\n",
    "         , _switch_to_ps_cpap: CASE\n",
    "             WHEN contains(_mode_prev, 'control')\n",
    "              AND mode_category IN ('pressure support/cpap')\n",
    "             THEN 1 ELSE 0 END\n",
    "    WHERE hospitalization_id IN ('20001361', '20004088', '20005024')\n",
    "    WINDOW w_mode AS (PARTITION BY hospitalization_id ORDER BY recorded_dttm)\n",
    "),\n",
    "-- segment attributes keyed by existing mode_cat_id\n",
    "seg_bounds AS (\n",
    "    FROM base\n",
    "    SELECT hospitalization_id\n",
    "         , _seg_id: mode_cat_id \n",
    "         , _seg_start: MIN(recorded_dttm)\n",
    "         , _seg_last_seen: MAX(recorded_dttm)\n",
    "         , _seg_mode: ANY_VALUE(mode_category)\n",
    "    GROUP BY hospitalization_id, _seg_id\n",
    "),\n",
    "-- compute segment end and previous segment mode\n",
    "seg_timing AS (\n",
    "    FROM seg_bounds\n",
    "    SELECT hospitalization_id\n",
    "         , _seg_id\n",
    "         , _seg_mode\n",
    "         , _seg_start\n",
    "         , _seg_last_seen -- timing of the last row for this segment\n",
    "         , _next_seg_start: LEAD(_seg_start) OVER w_seg -- timing of the first row of the next segment\n",
    "         , _seg_end: COALESCE(_next_seg_start, _seg_last_seen)\n",
    "         , _prev_seg_mode: LAG(_seg_mode) OVER w_seg\n",
    "    WINDOW w_seg AS (PARTITION BY hospitalization_id ORDER BY _seg_start)\n",
    "),\n",
    "seg_enriched AS (\n",
    "    FROM seg_timing\n",
    "    SELECT hospitalization_id\n",
    "         , _seg_id\n",
    "         , _seg_mode\n",
    "         , _seg_start\n",
    "         , _seg_end\n",
    "         , _prev_seg_mode\n",
    "         , _seg_duration_min: date_diff('minute', _seg_start, _seg_end)\n",
    "         , _is_ps_cpap_after_control: CASE\n",
    "             WHEN _seg_mode = 'pressure support/cpap'\n",
    "              AND contains(_prev_seg_mode, 'control')\n",
    "             THEN 1 ELSE 0 END\n",
    "         , _persists_30min: CASE\n",
    "             WHEN _seg_mode = 'pressure support/cpap'\n",
    "              AND contains(_prev_seg_mode, 'control')\n",
    "              AND date_diff('minute', _seg_start, _seg_end) >= 30\n",
    "             THEN 1 ELSE 0 END\n",
    "),\n",
    "final AS (\n",
    "    FROM base AS s\n",
    "    LEFT JOIN seg_enriched AS se\n",
    "      ON se.hospitalization_id = s.hospitalization_id\n",
    "     AND se._seg_id           = s.mode_cat_id\n",
    "    SELECT s.hospitalization_id\n",
    "         , s.recorded_dttm\n",
    "         , s.device_category, s.device_name\n",
    "         , s.mode_category, s.mode_name\n",
    "         , s.fio2_set\n",
    "         , s.peep_set\n",
    "         , s.pressure_support_set\n",
    "         , s.tracheostomy\n",
    "         , s._switch_to_ps_cpap\n",
    "         , se._is_ps_cpap_after_control\n",
    "         , se._persists_30min\n",
    "         , _sbt_done: CASE \n",
    "             WHEN se._persists_30min = 1 \n",
    "              AND s.peep_set <= 8\n",
    "              AND s.pressure_support_set <= 8\n",
    "             THEN 1 ELSE 0 END\n",
    ")\n",
    "SELECT *\n",
    "FROM seg_enriched\n",
    "ORDER BY hospitalization_id, _seg_id\n",
    "\"\"\"\n",
    "seg_view = duckdb.sql(q).df()"
   ]
  },
  {
   "cell_type": "code",
   "execution_count": 123,
   "id": "4a4530e8",
   "metadata": {},
   "outputs": [
    {
     "name": "stdout",
     "output_type": "stream",
     "text": [
      "--- Loading and executing query from code/sbt.sql ---\n",
      "Query executed successfully.\n"
     ]
    }
   ],
   "source": [
    "sbt_blocks_df = run_query_from_file('code/sbt.sql')"
   ]
  },
  {
   "cell_type": "code",
   "execution_count": 125,
   "id": "780f7232",
   "metadata": {},
   "outputs": [
    {
     "name": "stdout",
     "output_type": "stream",
     "text": [
      "--- Loading and executing query from code/sbt.sql ---\n",
      "Query executed successfully.\n"
     ]
    }
   ],
   "source": [
    "sbt_results_df = run_query_from_file('code/sbt.sql')"
   ]
  },
  {
   "cell_type": "markdown",
   "id": "22792bd1",
   "metadata": {},
   "source": [
    "## ADT"
   ]
  },
  {
   "cell_type": "code",
   "execution_count": 10,
   "id": "7950c5ce",
   "metadata": {},
   "outputs": [
    {
     "name": "stdout",
     "output_type": "stream",
     "text": [
      "📢 Initialized adt table\n",
      "📢 Data directory: /Users/wliao0504/code/clif/CLIF-MIMIC/output/rclif-dev-test\n",
      "📢 File type: parquet\n",
      "📢 Timezone: US/Eastern\n",
      "📢 Output directory: /Users/wliao0504/code/clif/CLIF-epi-of-sedation/output\n",
      "📢 Loaded schema from /Users/wliao0504/code/clif/CLIF-epi-of-sedation/.venv/lib/python3.12/site-packages/clifpy/schemas/adt_schema.yaml\n",
      "📢 Loaded outlier configuration\n"
     ]
    }
   ],
   "source": [
    "adt = co.load_table(\n",
    "    'adt',\n",
    "    columns = ['hospitalization_id', 'in_dttm', 'out_dttm', 'location_name', 'location_category'],\n",
    "    filters = {\n",
    "        'hospitalization_id': cohort_hosp_ids\n",
    "    }\n",
    ")\n",
    "adt_df = adt.df"
   ]
  },
  {
   "cell_type": "markdown",
   "id": "2babaa86",
   "metadata": {},
   "source": [
    "## Vitals"
   ]
  },
  {
   "cell_type": "code",
   "execution_count": 11,
   "id": "f4ad85a7",
   "metadata": {},
   "outputs": [
    {
     "name": "stdout",
     "output_type": "stream",
     "text": [
      "📢 Initialized vitals table\n",
      "📢 Data directory: /Users/wliao0504/code/clif/CLIF-MIMIC/output/rclif-dev-test\n",
      "📢 File type: parquet\n",
      "📢 Timezone: US/Eastern\n",
      "📢 Output directory: /Users/wliao0504/code/clif/CLIF-epi-of-sedation/output\n",
      "📢 Loaded schema from /Users/wliao0504/code/clif/CLIF-epi-of-sedation/.venv/lib/python3.12/site-packages/clifpy/schemas/vitals_schema.yaml\n",
      "📢 Loaded outlier configuration\n"
     ]
    }
   ],
   "source": [
    "vitals = co.load_table(\n",
    "    'vitals', \n",
    "    columns = ['hospitalization_id', 'recorded_dttm', 'vital_category', 'vital_value'],\n",
    "    filters = {\n",
    "        'vital_category': ['spo2', 'weight_kg'],\n",
    "        'hospitalization_id': cohort_hosp_ids\n",
    "    }\n",
    "    )\n",
    "vitals_df = vitals.df"
   ]
  },
  {
   "cell_type": "code",
   "execution_count": 12,
   "id": "56037f6c",
   "metadata": {},
   "outputs": [
    {
     "data": {
      "text/html": [
       "<div>\n",
       "<style scoped>\n",
       "    .dataframe tbody tr th:only-of-type {\n",
       "        vertical-align: middle;\n",
       "    }\n",
       "\n",
       "    .dataframe tbody tr th {\n",
       "        vertical-align: top;\n",
       "    }\n",
       "\n",
       "    .dataframe thead th {\n",
       "        text-align: right;\n",
       "    }\n",
       "</style>\n",
       "<table border=\"1\" class=\"dataframe\">\n",
       "  <thead>\n",
       "    <tr style=\"text-align: right;\">\n",
       "      <th></th>\n",
       "      <th>hospitalization_id</th>\n",
       "      <th>recorded_dttm</th>\n",
       "      <th>spo2</th>\n",
       "      <th>weight_kg</th>\n",
       "    </tr>\n",
       "  </thead>\n",
       "  <tbody>\n",
       "    <tr>\n",
       "      <th>0</th>\n",
       "      <td>25530842</td>\n",
       "      <td>2177-06-06 02:00:00-06:00</td>\n",
       "      <td>95.0</td>\n",
       "      <td>NaN</td>\n",
       "    </tr>\n",
       "    <tr>\n",
       "      <th>1</th>\n",
       "      <td>23403978</td>\n",
       "      <td>2193-02-20 16:00:00-06:00</td>\n",
       "      <td>NaN</td>\n",
       "      <td>76.8</td>\n",
       "    </tr>\n",
       "    <tr>\n",
       "      <th>2</th>\n",
       "      <td>27687784</td>\n",
       "      <td>2154-08-11 08:00:00-06:00</td>\n",
       "      <td>93.0</td>\n",
       "      <td>NaN</td>\n",
       "    </tr>\n",
       "    <tr>\n",
       "      <th>3</th>\n",
       "      <td>27687784</td>\n",
       "      <td>2154-08-14 10:00:00-06:00</td>\n",
       "      <td>96.0</td>\n",
       "      <td>NaN</td>\n",
       "    </tr>\n",
       "    <tr>\n",
       "      <th>4</th>\n",
       "      <td>27246915</td>\n",
       "      <td>2179-09-26 18:00:00-06:00</td>\n",
       "      <td>99.0</td>\n",
       "      <td>NaN</td>\n",
       "    </tr>\n",
       "  </tbody>\n",
       "</table>\n",
       "</div>"
      ],
      "text/plain": [
       "  hospitalization_id             recorded_dttm  spo2  weight_kg\n",
       "0           25530842 2177-06-06 02:00:00-06:00  95.0        NaN\n",
       "1           23403978 2193-02-20 16:00:00-06:00   NaN       76.8\n",
       "2           27687784 2154-08-11 08:00:00-06:00  93.0        NaN\n",
       "3           27687784 2154-08-14 10:00:00-06:00  96.0        NaN\n",
       "4           27246915 2179-09-26 18:00:00-06:00  99.0        NaN"
      ]
     },
     "execution_count": 12,
     "metadata": {},
     "output_type": "execute_result"
    }
   ],
   "source": [
    "q = \"\"\"\n",
    "PIVOT_WIDER vitals_df\n",
    "ON vital_category\n",
    "USING MAX(vital_value)\n",
    "\"\"\"\n",
    "vitals_w = duckdb.sql(q).df()\n",
    "vitals_w.head()"
   ]
  },
  {
   "cell_type": "markdown",
   "id": "2f2ea339",
   "metadata": {},
   "source": [
    "## Meds"
   ]
  },
  {
   "cell_type": "code",
   "execution_count": 13,
   "id": "06c49136",
   "metadata": {},
   "outputs": [
    {
     "name": "stdout",
     "output_type": "stream",
     "text": [
      "📢 Initialized medication_admin_continuous table\n",
      "📢 Data directory: /Users/wliao0504/code/clif/CLIF-MIMIC/output/rclif-dev-test\n",
      "📢 File type: parquet\n",
      "📢 Timezone: US/Eastern\n",
      "📢 Output directory: /Users/wliao0504/code/clif/CLIF-epi-of-sedation/output\n",
      "📢 Loaded schema from /Users/wliao0504/code/clif/CLIF-epi-of-sedation/.venv/lib/python3.12/site-packages/clifpy/schemas/medication_admin_continuous_schema.yaml\n",
      "📢 Loaded outlier configuration\n"
     ]
    }
   ],
   "source": [
    "mac = co.load_table(\n",
    "    'medication_admin_continuous',\n",
    "    columns = ['hospitalization_id', 'admin_dttm', 'med_name', 'med_category', 'med_dose', 'med_dose_unit'],\n",
    "    filters = {\n",
    "        'med_group': ['vasoactives'], \n",
    "        'hospitalization_id': cohort_hosp_ids\n",
    "    }\n",
    "    )"
   ]
  },
  {
   "cell_type": "code",
   "execution_count": 14,
   "id": "e5a9ac02",
   "metadata": {},
   "outputs": [
    {
     "name": "stdout",
     "output_type": "stream",
     "text": [
      "No weight_kg column found, adding the most recent from vitals\n"
     ]
    }
   ],
   "source": [
    "from clifpy.utils.unit_converter import convert_dose_units_by_med_category\n",
    "\n",
    "preferred_units = {\n",
    "    'dopamine': 'mcg/kg/min',\n",
    "    'dobutamine': 'mcg/kg/min',\n",
    "    'norepinephrine': 'mcg/kg/min',\n",
    "    'epinephrine': 'mcg/kg/min',\n",
    "    'phenylephrine': 'mcg/kg/min',\n",
    "    'angiotensin': 'mcg/kg/min',\n",
    "    'vasopressin': 'u/min',\n",
    "    'milrinone': 'mcg/kg/min'\n",
    "    }\n",
    "\n",
    "mac_converted, mac_summary = convert_dose_units_by_med_category(\n",
    "    mac.df,\n",
    "    vitals_df = vitals_df,\n",
    "    preferred_units = preferred_units\n",
    ")"
   ]
  },
  {
   "cell_type": "code",
   "execution_count": 15,
   "id": "fefd7631",
   "metadata": {},
   "outputs": [],
   "source": [
    "q = \"\"\"\n",
    "WITH t1 AS (\n",
    "    SELECT hospitalization_id\n",
    "        , admin_dttm\n",
    "        , med_category_unit: med_category || '_' || REPLACE(med_dose_unit_converted, '/', '_')\n",
    "        , med_dose_converted\n",
    "    FROM mac_converted\n",
    ")\n",
    ", t2 AS (\n",
    "    PIVOT_WIDER t1\n",
    "    ON med_category_unit\n",
    "    USING FIRST(med_dose_converted)\n",
    ")\n",
    "SELECT *\n",
    "FROM t2\n",
    "ORDER BY hospitalization_id, admin_dttm\n",
    "\"\"\"\n",
    "mac_w = duckdb.sql(q).df()"
   ]
  },
  {
   "cell_type": "code",
   "execution_count": 16,
   "id": "9b23e806",
   "metadata": {},
   "outputs": [
    {
     "name": "stdout",
     "output_type": "stream",
     "text": [
      "📢 ==================================================\n",
      "📢 🚀 WIDE DATASET CREATION STARTED\n",
      "📢 ==================================================\n",
      "📢 Phase 1: Initialization\n",
      "📢 Phase 2: Encounter Processing\n",
      "📢 Phase 3: Table Loading\n",
      "📢   3.1: Auto-loading base tables\n",
      "📢        - Loading patient table\n",
      "📢 Initialized patient table\n",
      "📢 Data directory: /Users/wliao0504/code/clif/CLIF-MIMIC/output/rclif-dev-test\n",
      "📢 File type: parquet\n",
      "📢 Timezone: US/Eastern\n",
      "📢 Output directory: /Users/wliao0504/code/clif/CLIF-epi-of-sedation/output\n",
      "📢 Loaded schema from /Users/wliao0504/code/clif/CLIF-epi-of-sedation/.venv/lib/python3.12/site-packages/clifpy/schemas/patient_schema.yaml\n",
      "📢 Loaded outlier configuration\n",
      "📢        - Loading hospitalization table\n",
      "📢 Initialized hospitalization table\n",
      "📢 Data directory: /Users/wliao0504/code/clif/CLIF-MIMIC/output/rclif-dev-test\n",
      "📢 File type: parquet\n",
      "📢 Timezone: US/Eastern\n",
      "📢 Output directory: /Users/wliao0504/code/clif/CLIF-epi-of-sedation/output\n",
      "📢 Loaded schema from /Users/wliao0504/code/clif/CLIF-epi-of-sedation/.venv/lib/python3.12/site-packages/clifpy/schemas/hospitalization_schema.yaml\n",
      "📢 Loaded outlier configuration\n",
      "📢   3.2: Loading optional tables: ['vitals']\n",
      "📢 Phase 4: Calling Wide Dataset Utility\n",
      "📢 Phase 4: Wide Dataset Processing (utility function)\n",
      "⚠️ optional_tables parameter is deprecated. Converting to category_filters format\n",
      "📢 Processing all 546028 hospitalizations\n",
      "📢 Loading and filtering base tables\n",
      "📢        - Base tables filtered - Hospitalization: 546028, Patient: 364627, ADT: 57335\n",
      "📢   4.2: Determining processing mode\n",
      "📢        - Single mode: Processing all 546028 hospitalizations at once\n",
      "📢   4.S: === SINGLE PROCESSING MODE ===\n",
      "📢            - Base cohort created with 546028 records\n",
      "📢     4.S.3: Processing tables\n",
      "📢            - Processing vitals\n",
      "📢 Loaded 2928938 records from vitals\n",
      "📢            === PIVOTING VITALS ===\n",
      "📢 Pivoted vitals: 2835306 combo_ids with 2 category columns\n",
      "📢     4.S.4: Creating wide dataset\n",
      "📢     === SPECIAL: MISSING COLUMNS ===\n",
      "📢     4.S.6: Final cleanup\n",
      "📢            - Wide dataset created: 2893611 records with 11 columns\n",
      "📢 Phase 5: Post-Processing\n",
      "📢 Phase 6: Completion\n",
      "📢   6.1: Wide dataset stored in self.wide_df\n",
      "📢   6.2: Dataset shape: 2893611 rows x 11 columns\n",
      "📢 ==================================================\n",
      "📢 ✅ WIDE DATASET CREATION COMPLETED\n",
      "📢 ==================================================\n"
     ]
    }
   ],
   "source": [
    "co.create_wide_dataset(\n",
    "    tables_to_load = ['vitals'],\n",
    "    batch_size = -1\n",
    ")"
   ]
  },
  {
   "cell_type": "code",
   "execution_count": 17,
   "id": "6fc33c00",
   "metadata": {},
   "outputs": [],
   "source": [
    "wide = co.wide_df"
   ]
  },
  {
   "cell_type": "markdown",
   "id": "a75a4416",
   "metadata": {},
   "source": [
    "## Join"
   ]
  },
  {
   "cell_type": "code",
   "execution_count": null,
   "id": "ba9f19ad",
   "metadata": {},
   "outputs": [],
   "source": [
    "q = \"\"\"\n",
    "SELECT hospitalization_id, recorded_dttm AS event_dttm FROM resp_view\n",
    "UNION\n",
    "SELECT hospitalization_id, recorded_dttm AS event_dttm FROM vitals_w\n",
    "UNION\n",
    "SELECT hospitalization_id, admin_dttm AS event_dttm FROM mac_w\n",
    "--UNION\n",
    "--SELECT hospitalization_id, in_dttm AS event_dttm FROM adt_df\n",
    "--UNION\n",
    "--SELECT hospitalization_id, out_dttm AS event_dttm FROM adt_df\n",
    "\"\"\"\n",
    "all_timestamps = duckdb.sql(q).df()"
   ]
  },
  {
   "cell_type": "code",
   "execution_count": 19,
   "id": "22ca29fd",
   "metadata": {},
   "outputs": [],
   "source": [
    "q = \"\"\"\n",
    "WITH t3 AS (\n",
    "    FROM all_timestamps t\n",
    "    LEFT JOIN mac_w m ON\n",
    "        t.hospitalization_id = m.hospitalization_id\n",
    "        AND t.event_dttm = m.admin_dttm\n",
    "    SELECT t.hospitalization_id, t.event_dttm\n",
    "        , LAST_VALUE(COLUMNS('_min') IGNORE NULLS) OVER (\n",
    "            PARTITION BY t.hospitalization_id ORDER BY event_dttm\n",
    "        )\n",
    "), t4 AS (\n",
    "    SELECT hospitalization_id, event_dttm\n",
    "        , COALESCE(COLUMNS('_min'), 0)\n",
    "    FROM t3\n",
    "), t5 AS (\n",
    "    SELECT *\n",
    "        -- ref: https://doi.org/10.1016/j.jcrc.2020.11.002\n",
    "        , _nee: norepinephrine_mcg_kg_min \n",
    "            + epinephrine_mcg_kg_min \n",
    "            + phenylephrine_mcg_kg_min / 10.0 \n",
    "            + dopamine_mcg_kg_min / 100.0 \n",
    "            + vasopressin_u_min * 2.5 \n",
    "            + angiotensin_mcg_kg_min * 10\n",
    "        , _hemo_stable_by_nee: CASE WHEN _nee <= 0.2 THEN 1 ELSE 0 END\n",
    "        -- to cover the two vasos not in the formula: milrinone and dobutamine\n",
    "        , _hemo_stable_by_abc: CASE WHEN dobutamine_mcg_kg_min < 0.5\n",
    "            AND milrinone_mcg_kg_min = 0 THEN 1 ELSE 0 END\n",
    "        , _hemo_stable: CASE WHEN _hemo_stable_by_nee AND _hemo_stable_by_abc THEN 1 ELSE 0 END\n",
    "    FROM t4\n",
    ")\n",
    "SELECT *\n",
    "FROM t5\n",
    "ORDER BY hospitalization_id, event_dttm\n",
    "\"\"\"\n",
    "# a = augmented\n",
    "mac_wa = duckdb.sql(q).df()"
   ]
  },
  {
   "cell_type": "code",
   "execution_count": 36,
   "id": "1d850199",
   "metadata": {},
   "outputs": [],
   "source": [
    "q = \"\"\"\n",
    "WITH t1 AS (\n",
    "FROM all_timestamps t\n",
    "\n",
    "LEFT JOIN resp_view r ON\n",
    "    t.hospitalization_id = r.hospitalization_id\n",
    "    AND t.event_dttm = r.recorded_dttm\n",
    "LEFT JOIN vitals_w v ON\n",
    "    t.hospitalization_id = v.hospitalization_id\n",
    "    AND t.event_dttm = v.recorded_dttm\n",
    "    AND v.spo2 IS NOT NULL\n",
    "LEFT JOIN mac_wa m ON\n",
    "    t.hospitalization_id = m.hospitalization_id\n",
    "    AND t.event_dttm = m.event_dttm\n",
    "SELECT _hospitalization_id: t.hospitalization_id\n",
    "    , _time: t.event_dttm\n",
    "    --, _nth_hr: ROW_NUMBER() OVER (PARTITION BY _hospitalization_id ORDER BY _time)\n",
    "    , device_name, device_category\n",
    "    , mode_name, mode_category\n",
    "    , fio2_set\n",
    "    , peep_set\n",
    "    , pressure_support_set\n",
    "    , tracheostomy\n",
    "    , spo2\n",
    "    , _spo2: LAST_VALUE(v.spo2 IGNORE NULLS) OVER (PARTITION BY _hospitalization_id ORDER BY _time)\n",
    "    , _resp_stable: CASE\n",
    "        WHEN fio2_set <= 0.5\n",
    "            AND peep_set <= 8\n",
    "            AND _spo2 >= 88\n",
    "        THEN 1 ELSE 0 END\n",
    "    , m.* \n",
    "    , _stable: CASE WHEN _resp_stable AND _hemo_stable THEN 1 ELSE 0 END\n",
    "    , sbt_eligible: CASE WHEN device_category = 'imv' AND _stable = 1 AND tracheostomy = 0 \n",
    "        THEN 1 ELSE 0 END\n",
    "    , sbt_done\n",
    ")\n",
    "SELECT *\n",
    "FROM t1\n",
    "ORDER BY _hospitalization_id, _time\n",
    "\"\"\"\n",
    "full_view = duckdb.sql(q).df()"
   ]
  },
  {
   "cell_type": "code",
   "execution_count": null,
   "id": "ce83b478",
   "metadata": {},
   "outputs": [],
   "source": [
    "q = \"\"\"\n",
    "SELECT _hospitalization_id\n",
    "    , _time\n",
    "    , sbt_eligible\n",
    "    , sbt_done\n",
    "    , device_category, device_name\n",
    "    , mode_category, mode_name\n",
    "    , fio2_set\n",
    "    , peep_set\n",
    "    , pressure_support_set\n",
    "    , _spo2\n",
    "FROM full_view\n",
    "WHERE hospitalization_id in ('20001361', '20004088', '20005024')\n",
    "\"\"\"\n",
    "check_view = duckdb.sql(q).df()"
   ]
  },
  {
   "cell_type": "code",
   "execution_count": null,
   "id": "687d7fe4",
   "metadata": {},
   "outputs": [],
   "source": []
  }
 ],
 "metadata": {
  "kernelspec": {
   "display_name": ".venv",
   "language": "python",
   "name": "python3"
  },
  "language_info": {
   "codemirror_mode": {
    "name": "ipython",
    "version": 3
   },
   "file_extension": ".py",
   "mimetype": "text/x-python",
   "name": "python",
   "nbconvert_exporter": "python",
   "pygments_lexer": "ipython3",
   "version": "3.12.10"
  }
 },
 "nbformat": 4,
 "nbformat_minor": 5
}
