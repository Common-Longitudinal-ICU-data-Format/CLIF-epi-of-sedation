{
 "cells": [
  {
   "cell_type": "markdown",
   "id": "db95619c",
   "metadata": {},
   "source": [
    "# Epidemiology of Sedation in Mechanical Ventilation"
   ]
  },
  {
   "cell_type": "code",
   "execution_count": 1,
   "id": "9757eb7c",
   "metadata": {},
   "outputs": [
    {
     "data": {
      "text/plain": [
       "'/Users/wliao0504/code/clif/CLIF-epi-of-sedation'"
      ]
     },
     "execution_count": 1,
     "metadata": {},
     "output_type": "execute_result"
    }
   ],
   "source": [
    "import os\n",
    "os.chdir(\"..\")\n",
    "os.getcwd()"
   ]
  },
  {
   "cell_type": "code",
   "execution_count": 53,
   "id": "8108d5b2",
   "metadata": {},
   "outputs": [],
   "source": [
    "import pandas as pd\n",
    "import duckdb\n",
    "from utils import pyCLIF as pc\n",
    "from utils.waterfall import process_resp_support_waterfall\n",
    "import pytest"
   ]
  },
  {
   "cell_type": "markdown",
   "id": "097baf93",
   "metadata": {},
   "source": [
    "## Cohort Identification"
   ]
  },
  {
   "cell_type": "code",
   "execution_count": 70,
   "id": "325f51b9",
   "metadata": {},
   "outputs": [
    {
     "name": "stdout",
     "output_type": "stream",
     "text": [
      "Data loaded successfully from /Users/wliao0504/code/clif/CLIF-MIMIC/output/rclif-dev-test-copy/clif_adt.parquet\n",
      "Data loaded successfully from /Users/wliao0504/code/clif/CLIF-MIMIC/output/rclif-dev-test-copy/clif_hospitalization.parquet\n"
     ]
    }
   ],
   "source": [
    "adt = pc.load_data(\"clif_adt\")\n",
    "hospitalization = pc.load_data(\"clif_hospitalization\")"
   ]
  },
  {
   "cell_type": "markdown",
   "id": "2459dbf0",
   "metadata": {},
   "source": [
    "### Create ICU-stay level unique id"
   ]
  },
  {
   "cell_type": "code",
   "execution_count": 72,
   "id": "a22d7118",
   "metadata": {},
   "outputs": [],
   "source": [
    "import warnings\n",
    "with warnings.catch_warnings():\n",
    "    warnings.filterwarnings(\"ignore\", category=FutureWarning)\n",
    "    stitched_encounters = pc.stitch_encounters(hospitalization, adt)"
   ]
  },
  {
   "cell_type": "code",
   "execution_count": null,
   "id": "f302c2be",
   "metadata": {},
   "outputs": [],
   "source": [
    "# create a mapping table\n",
    "query = \"\"\"\n",
    "SELECT DISTINCT patient_id, hospitalization_id, encounter_block\n",
    "FROM stitched_encounters\n",
    "\"\"\"\n",
    "hosp_to_enc_blk_mapper = duckdb.sql(query).to_df()"
   ]
  },
  {
   "cell_type": "code",
   "execution_count": 159,
   "id": "dfcfe9ce",
   "metadata": {},
   "outputs": [],
   "source": [
    "query = \"\"\"\n",
    "SELECT hospitalization_id\n",
    "    , encounter_block\n",
    "    , date_trunc('hour', in_dttm) as in_date_hr\n",
    "    , 1 as new_icu_stay\n",
    "FROM stitched_encounters\n",
    "WHERE location_category = 'icu'\n",
    "\"\"\"\n",
    "new_icu_start_hours = duckdb.sql(query).to_df()\n",
    "\n",
    "hosp_ids_w_icu_stays = new_icu_start_hours['hospitalization_id'].unique().tolist()"
   ]
  },
  {
   "cell_type": "markdown",
   "id": "231b1f5e",
   "metadata": {},
   "source": [
    "### Hr 24"
   ]
  },
  {
   "cell_type": "code",
   "execution_count": 94,
   "id": "9c711842",
   "metadata": {},
   "outputs": [
    {
     "name": "stdout",
     "output_type": "stream",
     "text": [
      "Data loaded successfully from /Users/wliao0504/code/clif/CLIF-MIMIC/output/rclif-dev-test-copy/clif_respiratory_support.parquet\n"
     ]
    }
   ],
   "source": [
    "resp = pc.load_data(\n",
    "    table = \"clif_respiratory_support\",\n",
    "    filters = {\n",
    "        \"hospitalization_id\": hosp_ids_w_icu_stays\n",
    "    }\n",
    "    )"
   ]
  },
  {
   "cell_type": "code",
   "execution_count": 95,
   "id": "e672c18c",
   "metadata": {},
   "outputs": [
    {
     "name": "stdout",
     "output_type": "stream",
     "text": [
      "✦ Phase 0: initialise & create hourly scaffold\n",
      "FIO2_SET mean= 0.4902933168490583 is within the required range\n",
      "Creating hourly scaffold for each encounter\n"
     ]
    },
    {
     "name": "stderr",
     "output_type": "stream",
     "text": [
      "Creating hourly scaffolds: 100%|██████████| 68063/68063 [00:03<00:00, 17112.98it/s]\n"
     ]
    },
    {
     "name": "stdout",
     "output_type": "stream",
     "text": [
      "✦ Phase 1: heuristic inference of device / mode\n",
      "✦ Phase 2: build device / mode hierarchical IDs\n",
      "✦ Phase 3: numeric down/up-fill inside mode_name_id blocks\n",
      "Applying waterfall fill to 68063 encounters...\n"
     ]
    },
    {
     "name": "stderr",
     "output_type": "stream",
     "text": [
      "Waterfall fill by mode_name_id: 100%|██████████| 417289/417289 [02:27<00:00, 4143.26it/s]/Users/wliao0504/code/clif/CLIF-epi-of-sedation/.venv-sedation/lib/python3.10/site-packages/tqdm/std.py:917: FutureWarning: DataFrameGroupBy.apply operated on the grouping columns. This behavior is deprecated, and in a future version of pandas the grouping columns will be excluded from the operation. Either pass `include_groups=False` to exclude the groupings or explicitly select the grouping columns after groupby to silence this warning.\n",
      "  return getattr(df, df_function)(wrapper, **kwargs)\n",
      "Waterfall fill by mode_name_id: 100%|██████████| 417289/417289 [02:46<00:00, 2502.64it/s]\n"
     ]
    },
    {
     "name": "stdout",
     "output_type": "stream",
     "text": [
      "✦ Phase 4: final deduplication & ordering\n",
      "[OK] Respiratory-support waterfall complete.\n"
     ]
    }
   ],
   "source": [
    "resp_f = process_resp_support_waterfall(resp)"
   ]
  },
  {
   "cell_type": "code",
   "execution_count": null,
   "id": "cd02d4e1",
   "metadata": {},
   "outputs": [],
   "source": [
    "focal_hosp_ids = [\n",
    "    '21738444', \n",
    "    '20004088', \n",
    "    '20006154', \n",
    "    '20018306'\n",
    "    ]"
   ]
  },
  {
   "cell_type": "code",
   "execution_count": 206,
   "id": "630f21e5",
   "metadata": {},
   "outputs": [
    {
     "data": {
      "text/html": [
       "<div>\n",
       "<style scoped>\n",
       "    .dataframe tbody tr th:only-of-type {\n",
       "        vertical-align: middle;\n",
       "    }\n",
       "\n",
       "    .dataframe tbody tr th {\n",
       "        vertical-align: top;\n",
       "    }\n",
       "\n",
       "    .dataframe thead th {\n",
       "        text-align: right;\n",
       "    }\n",
       "</style>\n",
       "<table border=\"1\" class=\"dataframe\">\n",
       "  <thead>\n",
       "    <tr style=\"text-align: right;\">\n",
       "      <th></th>\n",
       "      <th>total_icu_stays</th>\n",
       "    </tr>\n",
       "  </thead>\n",
       "  <tbody>\n",
       "    <tr>\n",
       "      <th>0</th>\n",
       "      <td>6.0</td>\n",
       "    </tr>\n",
       "  </tbody>\n",
       "</table>\n",
       "</div>"
      ],
      "text/plain": [
       "   total_icu_stays\n",
       "0              6.0"
      ]
     },
     "execution_count": 206,
     "metadata": {},
     "output_type": "execute_result"
    }
   ],
   "source": [
    "query = f\"\"\"\n",
    "SELECT SUM(CASE WHEN location_category = 'icu' THEN 1 ELSE 0 END) as total_icu_stays\n",
    "FROM adt\n",
    "WHERE hospitalization_id IN ({\",\".join(focal_hosp_ids)})\n",
    "\"\"\"\n",
    "duckdb.sql(query).to_df()"
   ]
  },
  {
   "cell_type": "code",
   "execution_count": 207,
   "id": "9fa1d99c",
   "metadata": {},
   "outputs": [],
   "source": [
    "resp_f['date_hr'] = resp_f['recorded_dttm'].dt.floor('h')\n",
    "\n",
    "query = f\"\"\"\n",
    "SELECT t1.hospitalization_id\n",
    "    , t3.encounter_block\n",
    "    , t1.date_hr\n",
    "    , MAX(CASE WHEN t2.new_icu_stay = 1 THEN 1 ELSE 0 END) as new_icu_start_from_adt\n",
    "    , MAX(CASE WHEN t1.device_category = 'imv' THEN 1 ELSE 0 END) as on_imv\n",
    "    , ROW_NUMBER() OVER (PARTITION BY t1.hospitalization_id ORDER BY t1.date_hr) as rn_by_hosp\n",
    "    , CASE WHEN (\n",
    "        rn_by_hosp = 1 -- new hospitalization\n",
    "        OR new_icu_start_from_adt = 1 -- new icu stay\n",
    "    ) THEN 1 ELSE 0 END as new_icu_stay\n",
    "FROM resp_f as t1\n",
    "LEFT JOIN new_icu_start_hours AS t2\n",
    "    ON t1.hospitalization_id = t2.hospitalization_id\n",
    "    AND t1.date_hr = t2.in_date_hr\n",
    "LEFT JOIN hosp_to_enc_blk_mapper AS t3\n",
    "    ON t1.hospitalization_id = t3.hospitalization_id\n",
    "-- WHERE t1.hospitalization_id IN ({\",\".join(focal_hosp_ids)})\n",
    "GROUP BY t1.hospitalization_id, t1.date_hr, t3.encounter_block\n",
    "ORDER BY t1.hospitalization_id, t1.date_hr\n",
    "\"\"\"\n",
    "df1 = duckdb.sql(query).to_df()"
   ]
  },
  {
   "cell_type": "code",
   "execution_count": 208,
   "id": "0839b368",
   "metadata": {},
   "outputs": [],
   "source": [
    "query = \"\"\"\n",
    "-- generate unique icu stay ids\n",
    "WITH t1 AS (\n",
    "    SELECT hospitalization_id\n",
    "        , encounter_block\n",
    "        , date_hr\n",
    "        , on_imv\n",
    "        , new_icu_stay\n",
    "        , SUM(new_icu_stay) OVER (ORDER BY hospitalization_id, date_hr) as icu_stay_id\n",
    "    FROM df1\n",
    "    -- keep only hospitalizations that have at least one hour on imv\n",
    "    WHERE hospitalization_id IN (\n",
    "        SELECT DISTINCT hospitalization_id\n",
    "        FROM df1\n",
    "        GROUP BY hospitalization_id\n",
    "        HAVING MAX(on_imv) = 1\n",
    "    )\n",
    "),\n",
    "-- generate unique imv streak ids\n",
    "t2 AS (\n",
    "    SELECT hospitalization_id\n",
    "        , icu_stay_id\n",
    "        -- , encounter_block\n",
    "        , date_hr\n",
    "        , on_imv\n",
    "        , ROW_NUMBER() OVER (PARTITION BY icu_stay_id ORDER BY date_hr) as rn_overall\n",
    "        , ROW_NUMBER() OVER (PARTITION BY icu_stay_id, on_imv ORDER BY date_hr) as rn_by_imv_status\n",
    "        , rn_overall - rn_by_imv_status as imv_streak_id\n",
    "    FROM t1\n",
    "    -- keep only icu stays that have at least one hour on imv\n",
    "    WHERE icu_stay_id IN (\n",
    "        SELECT DISTINCT icu_stay_id\n",
    "        FROM t1\n",
    "        GROUP BY icu_stay_id\n",
    "        HAVING MAX(on_imv) = 1\n",
    "    )\n",
    "    ORDER BY hospitalization_id, icu_stay_id, date_hr\n",
    "),\n",
    "-- mark the 24th and 72th hour of each imv streak\n",
    "t3 AS (\n",
    "    SELECT hospitalization_id, icu_stay_id, date_hr\n",
    "        , imv_streak_id, on_imv\n",
    "        , SUM(on_imv) OVER (PARTITION BY icu_stay_id, imv_streak_id ORDER BY date_hr) as imv_hrs_in_streak\n",
    "        , CASE WHEN (imv_hrs_in_streak = 24) THEN 1 ELSE 0 END as hr_24_on_imv\n",
    "        , CASE WHEN (imv_hrs_in_streak = 72) THEN 1 ELSE 0 END as hr_72_on_imv\n",
    "        -- calculate hour since first intubation within each icu stay\n",
    "        , MIN(CASE WHEN on_imv = 1 THEN date_hr END) OVER (PARTITION BY icu_stay_id) as first_imv_hr_in_icu_stay\n",
    "        -- can only calculate diff in secs, so convert to hrs\n",
    "        ,  EXTRACT(EPOCH FROM (date_hr - first_imv_hr_in_icu_stay)) / 3600 as hrs_since_first_imv\n",
    "    FROM t2\n",
    "    ORDER BY hospitalization_id, icu_stay_id, date_hr\n",
    "    )\n",
    "-- exclude cases with reintubation within 72 hours\n",
    "SELECT hospitalization_id, icu_stay_id, date_hr\n",
    "    , imv_streak_id, on_imv, imv_hrs_in_streak, hrs_since_first_imv\n",
    "    , hr_24_on_imv, hr_72_on_imv\n",
    "    , COUNT(DISTINCT CASE WHEN hrs_since_first_imv BETWEEN 0 AND 72 THEN imv_streak_id END) \n",
    "        OVER (PARTITION BY icu_stay_id) as n_imv_streaks_in_72_hrs\n",
    "    , CASE WHEN n_imv_streaks_in_72_hrs <= 2 AND hr_24_on_imv = 1 THEN 1 ELSE 0 END as hr_24_on_imv_noreintub\n",
    "    , CASE WHEN n_imv_streaks_in_72_hrs = 1 AND hr_72_on_imv = 1 THEN 1 ELSE 0 END as hr_72_on_imv_noreintub\n",
    "FROM t3\n",
    "ORDER BY hospitalization_id, icu_stay_id, date_hr\n",
    "\"\"\"\n",
    "df2 = duckdb.sql(query).to_df()"
   ]
  },
  {
   "cell_type": "code",
   "execution_count": 209,
   "id": "d8bfcf8d",
   "metadata": {},
   "outputs": [],
   "source": [
    "# keep the cohort\n",
    "query = \"\"\"\n",
    "SELECT *\n",
    "FROM df1\n",
    "WHERE hospitalization_id IN (\n",
    "    SELECT DISTINCT hospitalization_id\n",
    "    FROM df2\n",
    "    WHERE hr_24_on_imv = 1\n",
    ")\n",
    "\"\"\"\n",
    "df3 = duckdb.sql(query).to_df()\n",
    "\n",
    "cohort_hosp_ids = df3['hospitalization_id'].unique().tolist()"
   ]
  },
  {
   "cell_type": "code",
   "execution_count": null,
   "id": "9a7da8e6",
   "metadata": {},
   "outputs": [
    {
     "name": "stdout",
     "output_type": "stream",
     "text": [
      "\u001b[32m.\u001b[0m\u001b[32m.\u001b[0m\u001b[32m.\u001b[0m\u001b[32m.\u001b[0m\u001b[32m.\u001b[0m\u001b[32m.\u001b[0m\u001b[32m.\u001b[0m\u001b[32m                                                                                      [100%]\u001b[0m\n",
      "\u001b[32m\u001b[32m\u001b[1m7 passed\u001b[0m\u001b[32m in 0.07s\u001b[0m\u001b[0m\n"
     ]
    }
   ],
   "source": [
    "%%ipytest\n",
    "\n",
    "# sanity tests against the MIMIC-IV data\n",
    "@pytest.mark.parametrize(\"hospitalization_id,date_hr,expected_hr,expected_flag,expected_flag_noreintub\", [\n",
    "    # on imv for 24-hrs twice during the same hospitalization -- so would be excluded if no reintubation within 72 hrs\n",
    "    (21738444, \"2186-09-14 17:00:00-06:00\", 24, 1, 0),  \n",
    "    (21738444, \"2186-09-14 18:00:00-06:00\", 24, 0, 0),  \n",
    "    (21738444, \"2186-09-16 18:00:00-06:00\", 24, 1, 0), # second streak within the hosp\n",
    "    # not on imv for the first few hrs but long streak afterwards\n",
    "    (20004088, \"2159-09-30 09:00:00-06:00\", 24, 1, 1),\n",
    "    (20004088, \"2159-10-02 09:00:00-06:00\", 72, 1, 1),\n",
    "    # very short streaks: 20006154\n",
    "    # 3 icu stays within the same hospitalization\n",
    "    (20018306, \"2136-05-16 05:00:00-06:00\", 24, 1, 1),\n",
    "    (20018306, \"2136-07-01 19:00:00-06:00\", 24, 1, 1),\n",
    "    # (20018306, \"2136-06-01 03:00:00-06:00\", 24, 0), # in a icu stay that was filtered out in the df because of no imv ever\n",
    "])\n",
    "def test_if_on_imv_at_hr_x(hospitalization_id, date_hr, expected_hr, expected_flag, expected_flag_noreintub):\n",
    "    query = f\"\"\"\n",
    "    SELECT hr_{expected_hr}_on_imv, hr_{expected_hr}_on_imv_noreintub\n",
    "    FROM df2\n",
    "    WHERE hospitalization_id = {hospitalization_id}\n",
    "    AND date_hr = '{date_hr}'\n",
    "    \"\"\"\n",
    "    result = duckdb.sql(query).to_df()\n",
    "    observed_flag = result[f'hr_{expected_hr}_on_imv'].iloc[0]\n",
    "    observed_flag_noreintub = result[f'hr_{expected_hr}_on_imv_noreintub'].iloc[0]\n",
    "    assert observed_flag == expected_flag\n",
    "    assert observed_flag_noreintub == expected_flag_noreintub"
   ]
  },
  {
   "cell_type": "markdown",
   "id": "3d4cd8cf",
   "metadata": {},
   "source": [
    "## Vitals"
   ]
  },
  {
   "cell_type": "code",
   "execution_count": 211,
   "id": "8ff4200b",
   "metadata": {},
   "outputs": [
    {
     "name": "stdout",
     "output_type": "stream",
     "text": [
      "Data loaded successfully from /Users/wliao0504/code/clif/CLIF-MIMIC/output/rclif-dev-test-copy/clif_vitals.parquet\n"
     ]
    }
   ],
   "source": [
    "vitals = pc.load_data(\n",
    "    table = \"clif_vitals\",\n",
    "    filters = {\n",
    "        \"hospitalization_id\": cohort_hosp_ids\n",
    "    }\n",
    ")"
   ]
  },
  {
   "cell_type": "code",
   "execution_count": 212,
   "id": "330757c3",
   "metadata": {},
   "outputs": [
    {
     "data": {
      "text/html": [
       "<div>\n",
       "<style scoped>\n",
       "    .dataframe tbody tr th:only-of-type {\n",
       "        vertical-align: middle;\n",
       "    }\n",
       "\n",
       "    .dataframe tbody tr th {\n",
       "        vertical-align: top;\n",
       "    }\n",
       "\n",
       "    .dataframe thead th {\n",
       "        text-align: right;\n",
       "    }\n",
       "</style>\n",
       "<table border=\"1\" class=\"dataframe\">\n",
       "  <thead>\n",
       "    <tr style=\"text-align: right;\">\n",
       "      <th></th>\n",
       "      <th>hospitalization_id</th>\n",
       "      <th>recorded_dttm</th>\n",
       "      <th>vital_name</th>\n",
       "      <th>vital_category</th>\n",
       "      <th>vital_value</th>\n",
       "      <th>meas_site_name</th>\n",
       "    </tr>\n",
       "  </thead>\n",
       "  <tbody>\n",
       "    <tr>\n",
       "      <th>0</th>\n",
       "      <td>29888503</td>\n",
       "      <td>2137-07-13 05:00:00+00:00</td>\n",
       "      <td>O2 saturation pulseoxymetry</td>\n",
       "      <td>spo2</td>\n",
       "      <td>100.0</td>\n",
       "      <td>None</td>\n",
       "    </tr>\n",
       "    <tr>\n",
       "      <th>1</th>\n",
       "      <td>29888503</td>\n",
       "      <td>2137-07-13 06:00:00+00:00</td>\n",
       "      <td>Arterial Blood Pressure diastolic</td>\n",
       "      <td>dbp</td>\n",
       "      <td>60.0</td>\n",
       "      <td>None</td>\n",
       "    </tr>\n",
       "    <tr>\n",
       "      <th>2</th>\n",
       "      <td>29888503</td>\n",
       "      <td>2137-07-13 06:00:00+00:00</td>\n",
       "      <td>Arterial Blood Pressure mean</td>\n",
       "      <td>map</td>\n",
       "      <td>80.0</td>\n",
       "      <td>None</td>\n",
       "    </tr>\n",
       "    <tr>\n",
       "      <th>3</th>\n",
       "      <td>29888503</td>\n",
       "      <td>2137-07-13 06:00:00+00:00</td>\n",
       "      <td>O2 saturation pulseoxymetry</td>\n",
       "      <td>spo2</td>\n",
       "      <td>100.0</td>\n",
       "      <td>None</td>\n",
       "    </tr>\n",
       "    <tr>\n",
       "      <th>4</th>\n",
       "      <td>29888503</td>\n",
       "      <td>2137-07-13 07:00:00+00:00</td>\n",
       "      <td>Arterial Blood Pressure diastolic</td>\n",
       "      <td>dbp</td>\n",
       "      <td>50.0</td>\n",
       "      <td>None</td>\n",
       "    </tr>\n",
       "    <tr>\n",
       "      <th>...</th>\n",
       "      <td>...</td>\n",
       "      <td>...</td>\n",
       "      <td>...</td>\n",
       "      <td>...</td>\n",
       "      <td>...</td>\n",
       "      <td>...</td>\n",
       "    </tr>\n",
       "    <tr>\n",
       "      <th>30242666</th>\n",
       "      <td>27791218</td>\n",
       "      <td>2162-08-11 19:00:00+00:00</td>\n",
       "      <td>Respiratory Rate</td>\n",
       "      <td>respiratory_rate</td>\n",
       "      <td>20.0</td>\n",
       "      <td>None</td>\n",
       "    </tr>\n",
       "    <tr>\n",
       "      <th>30242667</th>\n",
       "      <td>27791218</td>\n",
       "      <td>2162-08-11 20:00:00+00:00</td>\n",
       "      <td>Respiratory Rate</td>\n",
       "      <td>respiratory_rate</td>\n",
       "      <td>22.0</td>\n",
       "      <td>None</td>\n",
       "    </tr>\n",
       "    <tr>\n",
       "      <th>30242668</th>\n",
       "      <td>27791218</td>\n",
       "      <td>2162-08-11 21:00:00+00:00</td>\n",
       "      <td>Respiratory Rate</td>\n",
       "      <td>respiratory_rate</td>\n",
       "      <td>25.0</td>\n",
       "      <td>None</td>\n",
       "    </tr>\n",
       "    <tr>\n",
       "      <th>30242669</th>\n",
       "      <td>27791218</td>\n",
       "      <td>2162-08-11 22:00:00+00:00</td>\n",
       "      <td>Respiratory Rate</td>\n",
       "      <td>respiratory_rate</td>\n",
       "      <td>26.0</td>\n",
       "      <td>None</td>\n",
       "    </tr>\n",
       "    <tr>\n",
       "      <th>30242670</th>\n",
       "      <td>27791218</td>\n",
       "      <td>2162-08-11 23:00:00+00:00</td>\n",
       "      <td>Respiratory Rate</td>\n",
       "      <td>respiratory_rate</td>\n",
       "      <td>18.0</td>\n",
       "      <td>None</td>\n",
       "    </tr>\n",
       "  </tbody>\n",
       "</table>\n",
       "<p>30242671 rows × 6 columns</p>\n",
       "</div>"
      ],
      "text/plain": [
       "         hospitalization_id             recorded_dttm  \\\n",
       "0                  29888503 2137-07-13 05:00:00+00:00   \n",
       "1                  29888503 2137-07-13 06:00:00+00:00   \n",
       "2                  29888503 2137-07-13 06:00:00+00:00   \n",
       "3                  29888503 2137-07-13 06:00:00+00:00   \n",
       "4                  29888503 2137-07-13 07:00:00+00:00   \n",
       "...                     ...                       ...   \n",
       "30242666           27791218 2162-08-11 19:00:00+00:00   \n",
       "30242667           27791218 2162-08-11 20:00:00+00:00   \n",
       "30242668           27791218 2162-08-11 21:00:00+00:00   \n",
       "30242669           27791218 2162-08-11 22:00:00+00:00   \n",
       "30242670           27791218 2162-08-11 23:00:00+00:00   \n",
       "\n",
       "                                 vital_name    vital_category  vital_value  \\\n",
       "0               O2 saturation pulseoxymetry              spo2        100.0   \n",
       "1         Arterial Blood Pressure diastolic               dbp         60.0   \n",
       "2              Arterial Blood Pressure mean               map         80.0   \n",
       "3               O2 saturation pulseoxymetry              spo2        100.0   \n",
       "4         Arterial Blood Pressure diastolic               dbp         50.0   \n",
       "...                                     ...               ...          ...   \n",
       "30242666                   Respiratory Rate  respiratory_rate         20.0   \n",
       "30242667                   Respiratory Rate  respiratory_rate         22.0   \n",
       "30242668                   Respiratory Rate  respiratory_rate         25.0   \n",
       "30242669                   Respiratory Rate  respiratory_rate         26.0   \n",
       "30242670                   Respiratory Rate  respiratory_rate         18.0   \n",
       "\n",
       "         meas_site_name  \n",
       "0                  None  \n",
       "1                  None  \n",
       "2                  None  \n",
       "3                  None  \n",
       "4                  None  \n",
       "...                 ...  \n",
       "30242666           None  \n",
       "30242667           None  \n",
       "30242668           None  \n",
       "30242669           None  \n",
       "30242670           None  \n",
       "\n",
       "[30242671 rows x 6 columns]"
      ]
     },
     "execution_count": 212,
     "metadata": {},
     "output_type": "execute_result"
    }
   ],
   "source": [
    "vitals"
   ]
  }
 ],
 "metadata": {
  "kernelspec": {
   "display_name": ".venv-sedation",
   "language": "python",
   "name": "python3"
  },
  "language_info": {
   "codemirror_mode": {
    "name": "ipython",
    "version": 3
   },
   "file_extension": ".py",
   "mimetype": "text/x-python",
   "name": "python",
   "nbconvert_exporter": "python",
   "pygments_lexer": "ipython3",
   "version": "3.10.4"
  }
 },
 "nbformat": 4,
 "nbformat_minor": 5
}
