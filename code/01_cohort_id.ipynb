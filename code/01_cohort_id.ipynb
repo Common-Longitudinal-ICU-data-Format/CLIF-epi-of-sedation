{
 "cells": [
  {
   "cell_type": "markdown",
   "id": "db95619c",
   "metadata": {},
   "source": [
    "# Epidemiology of Sedation in Mechanical Ventilation"
   ]
  },
  {
   "cell_type": "code",
   "execution_count": 1,
   "id": "9757eb7c",
   "metadata": {},
   "outputs": [
    {
     "data": {
      "text/plain": [
       "'/Users/wliao0504/code/clif/CLIF-epi-of-sedation'"
      ]
     },
     "execution_count": 1,
     "metadata": {},
     "output_type": "execute_result"
    }
   ],
   "source": [
    "import os\n",
    "os.chdir(\"..\")\n",
    "os.getcwd()"
   ]
  },
  {
   "cell_type": "code",
   "execution_count": 13,
   "id": "8108d5b2",
   "metadata": {},
   "outputs": [],
   "source": [
    "import pandas as pd\n",
    "import duckdb\n",
    "from utils import pyCLIF as pc\n",
    "from utils.waterfall import process_resp_support_waterfall"
   ]
  },
  {
   "cell_type": "markdown",
   "id": "097baf93",
   "metadata": {},
   "source": [
    "## Cohort Identification"
   ]
  },
  {
   "cell_type": "code",
   "execution_count": 11,
   "id": "9c711842",
   "metadata": {},
   "outputs": [
    {
     "name": "stdout",
     "output_type": "stream",
     "text": [
      "Data loaded successfully from /Users/wliao0504/code/clif/CLIF-MIMIC/output/rclif-dev-test-copy/clif_respiratory_support.parquet\n"
     ]
    }
   ],
   "source": [
    "resp = pc.load_data(\"clif_respiratory_support\")"
   ]
  },
  {
   "cell_type": "code",
   "execution_count": 14,
   "id": "e672c18c",
   "metadata": {},
   "outputs": [
    {
     "name": "stdout",
     "output_type": "stream",
     "text": [
      "✦ Phase 0: initialise & create hourly scaffold\n",
      "FIO2_SET mean= 0.49026212251411716 is within the required range\n",
      "Creating hourly scaffold for each encounter\n"
     ]
    },
    {
     "name": "stderr",
     "output_type": "stream",
     "text": [
      "Creating hourly scaffolds: 100%|██████████| 70103/70103 [00:03<00:00, 21747.59it/s]\n"
     ]
    },
    {
     "name": "stdout",
     "output_type": "stream",
     "text": [
      "✦ Phase 1: heuristic inference of device / mode\n",
      "✦ Phase 2: build device / mode hierarchical IDs\n",
      "✦ Phase 3: numeric down/up-fill inside mode_name_id blocks\n",
      "Applying waterfall fill to 70103 encounters...\n"
     ]
    },
    {
     "name": "stderr",
     "output_type": "stream",
     "text": [
      "Waterfall fill by mode_name_id: 100%|██████████| 419988/419988 [02:32<00:00, 3607.29it/s]/Users/wliao0504/code/clif/CLIF-epi-of-sedation/.venv-sedation/lib/python3.10/site-packages/tqdm/std.py:917: FutureWarning: DataFrameGroupBy.apply operated on the grouping columns. This behavior is deprecated, and in a future version of pandas the grouping columns will be excluded from the operation. Either pass `include_groups=False` to exclude the groupings or explicitly select the grouping columns after groupby to silence this warning.\n",
      "  return getattr(df, df_function)(wrapper, **kwargs)\n",
      "Waterfall fill by mode_name_id: 100%|██████████| 419988/419988 [02:49<00:00, 2473.83it/s]\n"
     ]
    },
    {
     "name": "stdout",
     "output_type": "stream",
     "text": [
      "✦ Phase 4: final deduplication & ordering\n",
      "[OK] Respiratory-support waterfall complete.\n"
     ]
    }
   ],
   "source": [
    "resp_f = process_resp_support_waterfall(resp)"
   ]
  },
  {
   "cell_type": "code",
   "execution_count": 52,
   "id": "9fa1d99c",
   "metadata": {},
   "outputs": [],
   "source": [
    "query = \"\"\"\n",
    "SELECT\n",
    "    hospitalization_id,\n",
    "    date_trunc('hour', recorded_dttm) as date_hour,\n",
    "    MAX(CASE WHEN device_category = 'imv' THEN 1 ELSE 0 END) as on_imv,\n",
    "    SUM(on_imv) OVER (\n",
    "        PARTITION BY hospitalization_id \n",
    "        ORDER BY date_hour \n",
    "        ROWS BETWEEN UNBOUNDED PRECEDING AND CURRENT ROW) \n",
    "        as total_hrs_on_imv,\n",
    "    ROW_NUMBER() OVER (PARTITION BY hospitalization_id ORDER BY date_hour) as hr_index,\n",
    "    CASE WHEN (on_imv = 1) AND (hr_index = 24) AND (total_hrs_on_imv = 24) THEN 1 ELSE 0 END as hr_24_on_imv,\n",
    "    CASE WHEN (on_imv = 1) AND (hr_index = 72) AND (total_hrs_on_imv = 72) THEN 1 ELSE 0 END as hr_72_on_imv,\n",
    "FROM resp_f\n",
    "WHERE hospitalization_id IN (21738444) -- focal cases\n",
    "GROUP BY hospitalization_id, date_hour\n",
    "ORDER BY hospitalization_id, date_hour\n",
    "\"\"\"\n",
    "df1 = duckdb.sql(query).to_df()"
   ]
  },
  {
   "cell_type": "code",
   "execution_count": 49,
   "id": "d8bfcf8d",
   "metadata": {},
   "outputs": [],
   "source": [
    "query = \"\"\"\n",
    "SELECT *\n",
    "FROM df1\n",
    "WHERE hospitalization_id IN (\n",
    "    SELECT DISTINCT hospitalization_id\n",
    "    FROM df1\n",
    "    WHERE hr_24_on_imv = 1\n",
    ")\n",
    "\"\"\"\n",
    "df2 = duckdb.sql(query).to_df()"
   ]
  },
  {
   "cell_type": "code",
   "execution_count": null,
   "id": "5677a03e",
   "metadata": {},
   "outputs": [],
   "source": []
  }
 ],
 "metadata": {
  "kernelspec": {
   "display_name": ".venv-sedation",
   "language": "python",
   "name": "python3"
  },
  "language_info": {
   "codemirror_mode": {
    "name": "ipython",
    "version": 3
   },
   "file_extension": ".py",
   "mimetype": "text/x-python",
   "name": "python",
   "nbconvert_exporter": "python",
   "pygments_lexer": "ipython3",
   "version": "3.10.4"
  }
 },
 "nbformat": 4,
 "nbformat_minor": 5
}
