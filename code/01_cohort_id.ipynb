{
 "cells": [
  {
   "cell_type": "code",
   "execution_count": null,
   "id": "1fe745d3",
   "metadata": {},
   "outputs": [],
   "source": [
    "# Debug: Check what columns are in mac_cohort_dosage_w\n",
    "print(\"Columns in mac_cohort_dosage_w:\")\n",
    "print(mac_cohort_dosage_w.columns.tolist())\n",
    "print(\"\\nShape:\", mac_cohort_dosage_w.shape)\n",
    "print(\"\\nFirst few rows:\")\n",
    "print(mac_cohort_dosage_w.head())\n",
    "print(\"\\nData types:\")\n",
    "print(mac_cohort_dosage_w.dtypes)\n"
   ]
  },
  {
   "cell_type": "code",
   "execution_count": null,
   "id": "56cc6268",
   "metadata": {},
   "outputs": [],
   "source": [
    "# Also check what med_category values you're trying to use as column names\n",
    "print(\"Unique med_category values:\")\n",
    "print(mac_cohort_dosage['med_category'].unique().tolist())\n",
    "print(\"\\nColumns in mac_cohort_dosage:\")\n",
    "print(mac_cohort_dosage.columns.tolist())\n"
   ]
  },
  {
   "cell_type": "code",
   "execution_count": null,
   "id": "72aa68f3",
   "metadata": {},
   "outputs": [],
   "source": [
    "# Fixed TableOne call\n",
    "# The continuous parameter should be actual column names from mac_cohort_dosage_w, not category names\n",
    "med_columns = [col for col in mac_cohort_dosage_w.columns if col not in ['hospitalization_id', 'date_hr', 'cohort_flag']]\n",
    "\n",
    "print(\"Using these columns as continuous variables:\")\n",
    "print(med_columns)\n",
    "\n",
    "# Create TableOne with correct column names\n",
    "table1 = tableone.TableOne(\n",
    "    mac_cohort_dosage_w, \n",
    "    continuous=med_columns,  # Use actual column names from the dataframe\n",
    "    categorical=['cohort_flag'], \n",
    "    groupby='cohort_flag'\n",
    ")\n",
    "\n",
    "print(\"\\nTableOne results:\")\n",
    "print(table1.tabulate(tablefmt=\"github\"))\n"
   ]
  },
  {
   "cell_type": "markdown",
   "id": "db95619c",
   "metadata": {},
   "source": [
    "# Epidemiology of Sedation in Mechanical Ventilation"
   ]
  },
  {
   "cell_type": "code",
   "execution_count": 107,
   "id": "9757eb7c",
   "metadata": {},
   "outputs": [
    {
     "data": {
      "text/plain": [
       "'/Users/wliao0504/code/clif'"
      ]
     },
     "execution_count": 107,
     "metadata": {},
     "output_type": "execute_result"
    }
   ],
   "source": [
    "import os\n",
    "os.chdir(\"..\")\n",
    "os.getcwd()"
   ]
  },
  {
   "cell_type": "markdown",
   "id": "92ab2ea0",
   "metadata": {},
   "source": [
    "## Import"
   ]
  },
  {
   "cell_type": "code",
   "execution_count": 122,
   "id": "8108d5b2",
   "metadata": {},
   "outputs": [
    {
     "name": "stdout",
     "output_type": "stream",
     "text": [
      "Loaded configuration from config.json\n"
     ]
    }
   ],
   "source": [
    "from importlib import reload\n",
    "import pandas as pd\n",
    "import duckdb\n",
    "from utils import pyCLIF as pc\n",
    "reload(pc)\n",
    "from utils.waterfall import process_resp_support_waterfall\n",
    "import ipytest\n",
    "import tableone\n",
    "from utils.data_cleaner import remove_outliers_with_timing"
   ]
  },
  {
   "cell_type": "markdown",
   "id": "097baf93",
   "metadata": {},
   "source": [
    "## Cohort Identification"
   ]
  },
  {
   "cell_type": "code",
   "execution_count": 10,
   "id": "325f51b9",
   "metadata": {},
   "outputs": [
    {
     "name": "stdout",
     "output_type": "stream",
     "text": [
      "Data loaded successfully from /Users/wliao0504/code/clif/CLIF-MIMIC/output/rclif-dev-test-copy/clif_adt.parquet\n",
      "Data loaded successfully from /Users/wliao0504/code/clif/CLIF-MIMIC/output/rclif-dev-test-copy/clif_hospitalization.parquet\n"
     ]
    }
   ],
   "source": [
    "adt = pc.load_data(\"clif_adt\")\n",
    "hospitalization = pc.load_data(\"clif_hospitalization\")"
   ]
  },
  {
   "cell_type": "markdown",
   "id": "2459dbf0",
   "metadata": {},
   "source": [
    "### Create ICU-stay level unique id"
   ]
  },
  {
   "cell_type": "code",
   "execution_count": 11,
   "id": "a22d7118",
   "metadata": {},
   "outputs": [],
   "source": [
    "import warnings\n",
    "with warnings.catch_warnings():\n",
    "    warnings.filterwarnings(\"ignore\", category=FutureWarning)\n",
    "    stitched_encounters = pc.stitch_encounters(hospitalization, adt)"
   ]
  },
  {
   "cell_type": "code",
   "execution_count": 12,
   "id": "f302c2be",
   "metadata": {},
   "outputs": [],
   "source": [
    "# create a mapping table\n",
    "query = \"\"\"\n",
    "SELECT DISTINCT patient_id, hospitalization_id, encounter_block\n",
    "FROM stitched_encounters\n",
    "\"\"\"\n",
    "hosp_to_enc_blk_mapper = duckdb.sql(query).to_df()"
   ]
  },
  {
   "cell_type": "code",
   "execution_count": 13,
   "id": "dfcfe9ce",
   "metadata": {},
   "outputs": [],
   "source": [
    "query = \"\"\"\n",
    "SELECT hospitalization_id\n",
    "    , encounter_block\n",
    "    , date_trunc('hour', in_dttm) as in_date_hr\n",
    "    , 1 as new_icu_stay\n",
    "FROM stitched_encounters\n",
    "WHERE location_category = 'icu'\n",
    "\"\"\"\n",
    "new_icu_start_hours = duckdb.sql(query).to_df()\n",
    "\n",
    "hosp_ids_w_icu_stays = new_icu_start_hours['hospitalization_id'].unique().tolist()"
   ]
  },
  {
   "cell_type": "markdown",
   "id": "231b1f5e",
   "metadata": {},
   "source": [
    "### Hour 24 and 72"
   ]
  },
  {
   "cell_type": "code",
   "execution_count": 14,
   "id": "9c711842",
   "metadata": {},
   "outputs": [],
   "source": [
    "# resp = pc.load_data(\n",
    "#     table = \"clif_respiratory_support\",\n",
    "#     filters = {\n",
    "#         \"hospitalization_id\": hosp_ids_w_icu_stays\n",
    "#     }\n",
    "#     )"
   ]
  },
  {
   "cell_type": "code",
   "execution_count": 15,
   "id": "e672c18c",
   "metadata": {},
   "outputs": [],
   "source": [
    "# resp_f = process_resp_support_waterfall(resp)\n",
    "resp_f = pd.read_parquet(\"resp_f.parquet\")"
   ]
  },
  {
   "cell_type": "code",
   "execution_count": 16,
   "id": "cd02d4e1",
   "metadata": {},
   "outputs": [],
   "source": [
    "focal_hosp_ids = [\n",
    "    '21738444', \n",
    "    '20004088', \n",
    "    '20006154', \n",
    "    '20018306'\n",
    "    ]"
   ]
  },
  {
   "cell_type": "code",
   "execution_count": 17,
   "id": "630f21e5",
   "metadata": {},
   "outputs": [],
   "source": [
    "# query = f\"\"\"\n",
    "# SELECT SUM(CASE WHEN location_category = 'icu' THEN 1 ELSE 0 END) as total_icu_stays\n",
    "# FROM adt\n",
    "# WHERE hospitalization_id IN ({\",\".join(focal_hosp_ids)})\n",
    "# \"\"\"\n",
    "# duckdb.sql(query).to_df()"
   ]
  },
  {
   "cell_type": "code",
   "execution_count": 18,
   "id": "9fa1d99c",
   "metadata": {},
   "outputs": [],
   "source": [
    "resp_f['date_hr'] = resp_f['recorded_dttm'].dt.floor('h')\n",
    "\n",
    "query = f\"\"\"\n",
    "SELECT t1.hospitalization_id\n",
    "    , t3.encounter_block\n",
    "    , t1.date_hr\n",
    "    , MAX(CASE WHEN t2.new_icu_stay = 1 THEN 1 ELSE 0 END) as new_icu_start_from_adt\n",
    "    , MAX(CASE WHEN t1.device_category = 'imv' THEN 1 ELSE 0 END) as on_imv\n",
    "    , MAX(CASE WHEN t1.tracheostomy is True OR t1.tracheostomy = 1 THEN 1 ELSE 0 END) as trach_ever\n",
    "    , ROW_NUMBER() OVER (PARTITION BY t1.hospitalization_id ORDER BY t1.date_hr) as rn_by_hosp\n",
    "    , CASE WHEN (\n",
    "        rn_by_hosp = 1 -- new hospitalization\n",
    "        OR new_icu_start_from_adt = 1 -- new icu stay\n",
    "    ) THEN 1 ELSE 0 END as new_icu_stay\n",
    "FROM resp_f as t1\n",
    "LEFT JOIN new_icu_start_hours AS t2\n",
    "    ON t1.hospitalization_id = t2.hospitalization_id\n",
    "    AND t1.date_hr = t2.in_date_hr\n",
    "LEFT JOIN hosp_to_enc_blk_mapper AS t3\n",
    "    ON t1.hospitalization_id = t3.hospitalization_id\n",
    "-- WHERE t1.hospitalization_id IN ({\",\".join(focal_hosp_ids)})\n",
    "GROUP BY t1.hospitalization_id, t1.date_hr, t3.encounter_block\n",
    "ORDER BY t1.hospitalization_id, t1.date_hr\n",
    "\"\"\"\n",
    "df1 = duckdb.sql(query).to_df()"
   ]
  },
  {
   "cell_type": "code",
   "execution_count": 19,
   "id": "0839b368",
   "metadata": {},
   "outputs": [],
   "source": [
    "query = \"\"\"\n",
    "-- generate unique icu stay ids\n",
    "WITH t1 AS (\n",
    "    SELECT hospitalization_id\n",
    "        , encounter_block\n",
    "        , date_hr\n",
    "        , on_imv\n",
    "        , new_icu_stay\n",
    "        , SUM(new_icu_stay) OVER (ORDER BY hospitalization_id, date_hr) as icu_stay_id\n",
    "    FROM df1\n",
    "    -- keep only hospitalizations that have at least one hour on imv and no tracheostomy\n",
    "    WHERE hospitalization_id IN (\n",
    "        SELECT DISTINCT hospitalization_id\n",
    "        FROM df1\n",
    "        GROUP BY hospitalization_id\n",
    "        HAVING MAX(on_imv) = 1 AND MAX(trach_ever) = 0\n",
    "    )\n",
    "),\n",
    "-- generate unique imv streak ids\n",
    "t2 AS (\n",
    "    SELECT hospitalization_id\n",
    "        , icu_stay_id\n",
    "        -- , encounter_block\n",
    "        , date_hr\n",
    "        , on_imv\n",
    "        , ROW_NUMBER() OVER (PARTITION BY icu_stay_id ORDER BY date_hr) as rn_overall\n",
    "        , ROW_NUMBER() OVER (PARTITION BY icu_stay_id, on_imv ORDER BY date_hr) as rn_by_imv_status\n",
    "        , rn_overall - rn_by_imv_status as imv_streak_id\n",
    "    FROM t1\n",
    "    -- keep only icu stays that have at least one hour on imv\n",
    "    WHERE icu_stay_id IN (\n",
    "        SELECT DISTINCT icu_stay_id\n",
    "        FROM t1\n",
    "        GROUP BY icu_stay_id\n",
    "        HAVING MAX(on_imv) = 1\n",
    "    )\n",
    "    ORDER BY hospitalization_id, icu_stay_id, date_hr\n",
    "),\n",
    "-- mark the 24th and 72th hour of each imv streak\n",
    "t3 AS (\n",
    "    SELECT hospitalization_id, icu_stay_id, date_hr\n",
    "        , imv_streak_id, on_imv\n",
    "        , SUM(on_imv) OVER (PARTITION BY icu_stay_id, imv_streak_id ORDER BY date_hr) as imv_hrs_in_streak\n",
    "        , CASE WHEN (imv_hrs_in_streak = 24) THEN 1 ELSE 0 END as hr_24_on_imv\n",
    "        , CASE WHEN (imv_hrs_in_streak = 72) THEN 1 ELSE 0 END as hr_72_on_imv\n",
    "        -- calculate hour since first intubation within each icu stay\n",
    "        , MIN(CASE WHEN on_imv = 1 THEN date_hr END) OVER (PARTITION BY icu_stay_id) as first_imv_hr_in_icu_stay\n",
    "        -- can only calculate diff in secs, so convert to hrs\n",
    "        ,  EXTRACT(EPOCH FROM (date_hr - first_imv_hr_in_icu_stay)) / 3600 + 1 as hrs_since_first_imv\n",
    "    FROM t2\n",
    "    ORDER BY hospitalization_id, icu_stay_id, date_hr\n",
    "    )\n",
    "-- exclude cases with reintubation within 72 hours\n",
    "SELECT hospitalization_id, icu_stay_id, date_hr\n",
    "    , imv_streak_id, on_imv, imv_hrs_in_streak, hrs_since_first_imv\n",
    "    , hr_24_on_imv, hr_72_on_imv\n",
    "    , COUNT(DISTINCT CASE WHEN hrs_since_first_imv BETWEEN 0 AND 72 THEN imv_streak_id END) \n",
    "        OVER (PARTITION BY icu_stay_id) as n_imv_streaks_in_72_hrs\n",
    "    , CASE WHEN n_imv_streaks_in_72_hrs <= 2 AND hr_24_on_imv = 1 THEN 1 ELSE 0 END as hr_24_on_imv_noreintub\n",
    "    , CASE WHEN n_imv_streaks_in_72_hrs = 1 AND hr_72_on_imv = 1 THEN 1 ELSE 0 END as hr_72_on_imv_noreintub\n",
    "FROM t3\n",
    "ORDER BY hospitalization_id, icu_stay_id, date_hr\n",
    "\"\"\"\n",
    "df2 = duckdb.sql(query).to_df()"
   ]
  },
  {
   "cell_type": "code",
   "execution_count": 100,
   "id": "9a7da8e6",
   "metadata": {},
   "outputs": [
    {
     "name": "stderr",
     "output_type": "stream",
     "text": [
      "UsageError: Cell magic `%%ipytest` not found.\n"
     ]
    }
   ],
   "source": [
    "%%ipytest\n",
    "\n",
    "# sanity tests against the MIMIC-IV data\n",
    "@pytest.mark.parametrize(\"hospitalization_id,date_hr,expected_hr,expected_flag,expected_flag_noreintub\", [\n",
    "    # on imv for 24-hrs twice during the same hospitalization -- so would be excluded if no reintubation within 72 hrs\n",
    "    (21738444, \"2186-09-14 17:00:00-06:00\", 24, 1, 0),  \n",
    "    (21738444, \"2186-09-14 18:00:00-06:00\", 24, 0, 0),  \n",
    "    (21738444, \"2186-09-16 18:00:00-06:00\", 24, 1, 0), # second streak within the hosp\n",
    "    # not on imv for the first few hrs but long streak afterwards\n",
    "    (20004088, \"2159-09-30 09:00:00-06:00\", 24, 1, 1),\n",
    "    (20004088, \"2159-10-02 09:00:00-06:00\", 72, 1, 1),\n",
    "    # very short streaks: 20006154\n",
    "    # 3 icu stays within the same hospitalization\n",
    "    (20018306, \"2136-05-16 05:00:00-06:00\", 24, 1, 1),\n",
    "    (20018306, \"2136-07-01 19:00:00-06:00\", 24, 1, 1),\n",
    "    # (20018306, \"2136-06-01 03:00:00-06:00\", 24, 0), # in a icu stay that was filtered out in the df because of no imv ever\n",
    "])\n",
    "def test_if_on_imv_at_hr_x(hospitalization_id, date_hr, expected_hr, expected_flag, expected_flag_noreintub):\n",
    "    query = f\"\"\"\n",
    "    SELECT hr_{expected_hr}_on_imv, hr_{expected_hr}_on_imv_noreintub\n",
    "    FROM df2\n",
    "    WHERE hospitalization_id = {hospitalization_id}\n",
    "    AND date_hr = '{date_hr}'\n",
    "    \"\"\"\n",
    "    result = duckdb.sql(query).to_df()\n",
    "    observed_flag = result[f'hr_{expected_hr}_on_imv'].iloc[0]\n",
    "    observed_flag_noreintub = result[f'hr_{expected_hr}_on_imv_noreintub'].iloc[0]\n",
    "    assert observed_flag == expected_flag\n",
    "    assert observed_flag_noreintub == expected_flag_noreintub"
   ]
  },
  {
   "cell_type": "markdown",
   "id": "dac0635a",
   "metadata": {},
   "source": [
    "### The Cohort"
   ]
  },
  {
   "cell_type": "code",
   "execution_count": 23,
   "id": "d8bfcf8d",
   "metadata": {},
   "outputs": [],
   "source": [
    "# keep the cohort\n",
    "query = \"\"\"\n",
    "SELECT hospitalization_id\n",
    "    , encounter_block\n",
    "    --, icu_stay_id\n",
    "    , date_hr\n",
    "    , CASE WHEN hr_24_on_imv_noreintub = 1 THEN 'hr_24'\n",
    "        WHEN hr_72_on_imv_noreintub = 1 THEN 'hr_72'\n",
    "        ELSE NULL END as cohort_flag\n",
    "FROM df2\n",
    "LEFT JOIN hosp_to_enc_blk_mapper USING (hospitalization_id)\n",
    "WHERE hr_24_on_imv_noreintub = 1 OR hr_72_on_imv_noreintub = 1\n",
    "\"\"\"\n",
    "cohort = duckdb.sql(query).to_df()\n",
    "\n",
    "cohort_hosp_ids = cohort['hospitalization_id'].unique().tolist()"
   ]
  },
  {
   "cell_type": "code",
   "execution_count": null,
   "id": "e65870fb",
   "metadata": {},
   "outputs": [
    {
     "ename": "BinderException",
     "evalue": "Binder Error: Referenced column \"med_category\" not found in FROM clause!\nCandidate bindings: \"date_hr\", \"encounter_block\"",
     "output_type": "error",
     "traceback": [
      "\u001b[0;31m---------------------------------------------------------------------------\u001b[0m",
      "\u001b[0;31mBinderException\u001b[0m                           Traceback (most recent call last)",
      "Cell \u001b[0;32mIn[24], line 7\u001b[0m\n\u001b[1;32m      1\u001b[0m query \u001b[38;5;241m=\u001b[39m \u001b[38;5;124m\"\"\"\u001b[39m\n\u001b[1;32m      2\u001b[0m \u001b[38;5;124mSELECT *\u001b[39m\n\u001b[1;32m      3\u001b[0m \u001b[38;5;124m    , \u001b[39m\n\u001b[1;32m      4\u001b[0m \u001b[38;5;124mFROM cohort\u001b[39m\n\u001b[1;32m      5\u001b[0m \u001b[38;5;124mWHERE cohort_flag IS NOT NULL AND med_category is NOT NULL\u001b[39m\n\u001b[1;32m      6\u001b[0m \u001b[38;5;124m\"\"\"\u001b[39m\n\u001b[0;32m----> 7\u001b[0m mac_cohort_hrs \u001b[38;5;241m=\u001b[39m \u001b[43mduckdb\u001b[49m\u001b[38;5;241;43m.\u001b[39;49m\u001b[43msql\u001b[49m\u001b[43m(\u001b[49m\u001b[43mquery\u001b[49m\u001b[43m)\u001b[49m\u001b[38;5;241m.\u001b[39mto_df()\n",
      "\u001b[0;31mBinderException\u001b[0m: Binder Error: Referenced column \"med_category\" not found in FROM clause!\nCandidate bindings: \"date_hr\", \"encounter_block\""
     ]
    }
   ],
   "source": [
    "query = \"\"\"\n",
    "SELECT *\n",
    "    , \n",
    "FROM cohort\n",
    "WHERE cohort_flag IS NOT NULL AND med_category is NOT NULL\n",
    "\"\"\"\n",
    "mac_cohort_hrs = duckdb.sql(query).to_df()"
   ]
  },
  {
   "cell_type": "markdown",
   "id": "3d4cd8cf",
   "metadata": {},
   "source": [
    "## Vitals"
   ]
  },
  {
   "cell_type": "code",
   "execution_count": 27,
   "id": "24a7d491",
   "metadata": {},
   "outputs": [],
   "source": [
    "vital_categories = [\n",
    "    \"weight_kg\",\n",
    "    \"height_cm\",\n",
    "    \"temp_c\"\n",
    "    \"heart_rate\",\n",
    "    \"respiratory_rate\",\n",
    "    \"temperature\",\n",
    "    \"sbp\",\n",
    "    \"dbp\",\n",
    "    \"spo2\",\n",
    "    \"map\"\n",
    "]"
   ]
  },
  {
   "cell_type": "code",
   "execution_count": 28,
   "id": "8ff4200b",
   "metadata": {},
   "outputs": [
    {
     "name": "stdout",
     "output_type": "stream",
     "text": [
      "Data loaded successfully from /Users/wliao0504/code/clif/CLIF-MIMIC/output/rclif-dev-test-copy/clif_vitals.parquet\n"
     ]
    }
   ],
   "source": [
    "vitals_required_columns = [\n",
    "    \"hospitalization_id\",\n",
    "    \"recorded_dttm\",\n",
    "    \"vital_category\",\n",
    "    \"vital_value\"\n",
    "]\n",
    "\n",
    "vitals = pc.load_data(\n",
    "    table = \"clif_vitals\",\n",
    "    filters = {\n",
    "        \"hospitalization_id\": cohort_hosp_ids\n",
    "    },\n",
    "    columns = vitals_required_columns\n",
    ")\n",
    "\n",
    "vitals['date_hr'] = vitals['recorded_dttm'].dt.floor('h')"
   ]
  },
  {
   "cell_type": "code",
   "execution_count": 119,
   "id": "90ec5d0a",
   "metadata": {},
   "outputs": [
    {
     "name": "stdout",
     "output_type": "stream",
     "text": [
      "Outliers found in vitals\n",
      "Category 'map': 3876 outliers (0.13%) have been set to NaN.\n",
      "Category 'spo2': 1592 outliers (0.06%) have been set to NaN.\n",
      "Category 'temp_c': 1104 outliers (0.14%) have been set to NaN.\n",
      "Category 'respiratory_rate': 610 outliers (0.02%) have been set to NaN.\n",
      "Category 'weight_kg': 499 outliers (0.26%) have been set to NaN.\n",
      "Category 'dbp': 424 outliers (0.01%) have been set to NaN.\n",
      "Category 'sbp': 86 outliers (0.00%) have been set to NaN.\n",
      "Category 'height_cm': 32 outliers (0.29%) have been set to NaN.\n",
      "Category 'heart_rate': 12 outliers (0.00%) have been set to NaN.\n",
      "⏱️ Outlier removal completed in 7.83 seconds\n",
      "🟢 Processed 18,115,764 rows\n"
     ]
    }
   ],
   "source": [
    "vitals = remove_outliers_with_timing(vitals, 'vitals', 'vital_value', file_path='config/outliers.json')"
   ]
  },
  {
   "cell_type": "code",
   "execution_count": 29,
   "id": "203eaa0d",
   "metadata": {},
   "outputs": [],
   "source": [
    "query = f\"\"\"\n",
    "SELECT *\n",
    "FROM cohort c\n",
    "CROSS JOIN (SELECT DISTINCT vital_category FROM vitals) v\n",
    "ORDER BY hospitalization_id, date_hr, vital_category\n",
    "\"\"\"\n",
    "cohort_hrs_cross_vital_categories = duckdb.sql(query).to_df()"
   ]
  },
  {
   "cell_type": "code",
   "execution_count": 82,
   "id": "330757c3",
   "metadata": {},
   "outputs": [],
   "source": [
    "query = \"\"\"\n",
    "-- fill any missing values in the cohort hours with the nearest in time (in the past or future)\n",
    "SELECT hospitalization_id\n",
    "    , date_hr\n",
    "    , cohort_flag\n",
    "    , vital_category\n",
    "    , MEAN(vital_value) as mean_value\n",
    "    \n",
    "    , LAG(mean_value) OVER (PARTITION BY hospitalization_id, vital_category ORDER BY date_hr) as mean_value_lag\n",
    "    , LAST_VALUE(mean_value IGNORE NULLS) OVER (\n",
    "        PARTITION BY hospitalization_id, vital_category \n",
    "        ORDER BY date_hr\n",
    "        ROWS BETWEEN UNBOUNDED PRECEDING AND CURRENT ROW\n",
    "    ) as mean_value_final\n",
    "    -- , COALESCE(mean_value, mean_value_last) as mean_value_final\n",
    "FROM cohort_hrs_cross_vital_categories\n",
    "FULL OUTER JOIN vitals USING (hospitalization_id, date_hr, vital_category)\n",
    "GROUP BY hospitalization_id, date_hr, cohort_flag, vital_category\n",
    "ORDER BY hospitalization_id, vital_category, date_hr, cohort_flag\n",
    "\"\"\"\n",
    "vitals_hrly = duckdb.sql(query).to_df()"
   ]
  },
  {
   "cell_type": "code",
   "execution_count": 83,
   "id": "d5cc7b95",
   "metadata": {},
   "outputs": [],
   "source": [
    "query = \"\"\"\n",
    "SELECT hospitalization_id\n",
    "    , date_hr\n",
    "    , cohort_flag\n",
    "    , vital_category\n",
    "    , mean_value\n",
    "    , mean_value_final\n",
    "FROM vitals_hrly\n",
    "WHERE cohort_flag IS NOT NULL\n",
    "ORDER BY hospitalization_id, vital_category, date_hr, cohort_flag\n",
    "\"\"\"\n",
    "vitals_cohort_hrs = duckdb.sql(query).to_df()"
   ]
  },
  {
   "cell_type": "markdown",
   "id": "ac250e05",
   "metadata": {},
   "source": [
    "## Medications"
   ]
  },
  {
   "cell_type": "code",
   "execution_count": 147,
   "id": "a2422daa",
   "metadata": {},
   "outputs": [
    {
     "name": "stdout",
     "output_type": "stream",
     "text": [
      "Data loaded successfully from /Users/wliao0504/code/clif/CLIF-MIMIC/output/rclif-dev-test-copy/clif_medication_admin_continuous.parquet\n"
     ]
    }
   ],
   "source": [
    "sed_med_categories = [\n",
    "    \"midazolam\", \"lorazepam\", \"hydromorphone\", \"fentanyl\", \"propofol\", \"dexmedetomidine\", \"ketamine\"\n",
    "]\n",
    "\n",
    "mac_required_columns = [\n",
    "    \"hospitalization_id\", \n",
    "    \"admin_dttm\",\n",
    "    \"med_category\",\n",
    "    \"med_dose\",\n",
    "    \"med_dose_unit\",\n",
    "    \"mar_action_name\"\n",
    "]\n",
    "\n",
    "mac = pc.load_data(\n",
    "    table = \"clif_medication_admin_continuous\",\n",
    "    columns = mac_required_columns,\n",
    "    filters = {\n",
    "        \"hospitalization_id\": cohort_hosp_ids,\n",
    "        \"med_category\": sed_med_categories\n",
    "    }\n",
    ")\n",
    "\n",
    "mac['date_hr'] = mac['admin_dttm'].dt.floor('h')"
   ]
  },
  {
   "cell_type": "markdown",
   "id": "ccd4dc26",
   "metadata": {},
   "source": [
    "### Check dosage unit"
   ]
  },
  {
   "cell_type": "code",
   "execution_count": 148,
   "id": "c32b057d",
   "metadata": {},
   "outputs": [
    {
     "data": {
      "text/html": [
       "<div>\n",
       "<style scoped>\n",
       "    .dataframe tbody tr th:only-of-type {\n",
       "        vertical-align: middle;\n",
       "    }\n",
       "\n",
       "    .dataframe tbody tr th {\n",
       "        vertical-align: top;\n",
       "    }\n",
       "\n",
       "    .dataframe thead th {\n",
       "        text-align: right;\n",
       "    }\n",
       "</style>\n",
       "<table border=\"1\" class=\"dataframe\">\n",
       "  <thead>\n",
       "    <tr style=\"text-align: right;\">\n",
       "      <th></th>\n",
       "      <th>med_category</th>\n",
       "      <th>med_dose_unit</th>\n",
       "      <th>n</th>\n",
       "    </tr>\n",
       "  </thead>\n",
       "  <tbody>\n",
       "    <tr>\n",
       "      <th>0</th>\n",
       "      <td>dexmedetomidine</td>\n",
       "      <td>mcg/kg/hour</td>\n",
       "      <td>89430</td>\n",
       "    </tr>\n",
       "    <tr>\n",
       "      <th>1</th>\n",
       "      <td>fentanyl</td>\n",
       "      <td>mcg/hour</td>\n",
       "      <td>113807</td>\n",
       "    </tr>\n",
       "    <tr>\n",
       "      <th>2</th>\n",
       "      <td>fentanyl</td>\n",
       "      <td>mcg/kg/hour</td>\n",
       "      <td>2</td>\n",
       "    </tr>\n",
       "    <tr>\n",
       "      <th>3</th>\n",
       "      <td>hydromorphone</td>\n",
       "      <td>mg/hour</td>\n",
       "      <td>9356</td>\n",
       "    </tr>\n",
       "    <tr>\n",
       "      <th>4</th>\n",
       "      <td>ketamine</td>\n",
       "      <td>mg/kg/hour</td>\n",
       "      <td>7513</td>\n",
       "    </tr>\n",
       "    <tr>\n",
       "      <th>5</th>\n",
       "      <td>ketamine</td>\n",
       "      <td>mg/hour</td>\n",
       "      <td>101</td>\n",
       "    </tr>\n",
       "    <tr>\n",
       "      <th>6</th>\n",
       "      <td>ketamine</td>\n",
       "      <td>mcg/kg/min</td>\n",
       "      <td>33</td>\n",
       "    </tr>\n",
       "    <tr>\n",
       "      <th>7</th>\n",
       "      <td>ketamine</td>\n",
       "      <td>mcg/min</td>\n",
       "      <td>11</td>\n",
       "    </tr>\n",
       "    <tr>\n",
       "      <th>8</th>\n",
       "      <td>lorazepam</td>\n",
       "      <td>mg/hour</td>\n",
       "      <td>128</td>\n",
       "    </tr>\n",
       "    <tr>\n",
       "      <th>9</th>\n",
       "      <td>midazolam</td>\n",
       "      <td>mg/hour</td>\n",
       "      <td>46571</td>\n",
       "    </tr>\n",
       "    <tr>\n",
       "      <th>10</th>\n",
       "      <td>propofol</td>\n",
       "      <td>mcg/kg/min</td>\n",
       "      <td>245979</td>\n",
       "    </tr>\n",
       "    <tr>\n",
       "      <th>11</th>\n",
       "      <td>propofol</td>\n",
       "      <td>mg/hour</td>\n",
       "      <td>2</td>\n",
       "    </tr>\n",
       "  </tbody>\n",
       "</table>\n",
       "</div>"
      ],
      "text/plain": [
       "       med_category med_dose_unit       n\n",
       "0   dexmedetomidine   mcg/kg/hour   89430\n",
       "1          fentanyl      mcg/hour  113807\n",
       "2          fentanyl   mcg/kg/hour       2\n",
       "3     hydromorphone       mg/hour    9356\n",
       "4          ketamine    mg/kg/hour    7513\n",
       "5          ketamine       mg/hour     101\n",
       "6          ketamine    mcg/kg/min      33\n",
       "7          ketamine       mcg/min      11\n",
       "8         lorazepam       mg/hour     128\n",
       "9         midazolam       mg/hour   46571\n",
       "10         propofol    mcg/kg/min  245979\n",
       "11         propofol       mg/hour       2"
      ]
     },
     "execution_count": 148,
     "metadata": {},
     "output_type": "execute_result"
    }
   ],
   "source": [
    "query = \"\"\"\n",
    "SELECT med_category, med_dose_unit, COUNT(*) as n\n",
    "FROM mac\n",
    "GROUP BY med_category, med_dose_unit\n",
    "ORDER BY med_category, n DESC\n",
    "\"\"\"\n",
    "med_units_count = duckdb.sql(query).to_df()\n",
    "med_units_count"
   ]
  },
  {
   "cell_type": "markdown",
   "id": "65fa2110",
   "metadata": {},
   "source": [
    "### Look up patient weights"
   ]
  },
  {
   "cell_type": "code",
   "execution_count": 149,
   "id": "759d0003",
   "metadata": {},
   "outputs": [
    {
     "data": {
      "text/plain": [
       "Index(['hospitalization_id', 'admin_dttm', 'med_category', 'med_dose',\n",
       "       'med_dose_unit', 'mar_action_name', 'date_hr'],\n",
       "      dtype='object')"
      ]
     },
     "execution_count": 149,
     "metadata": {},
     "output_type": "execute_result"
    }
   ],
   "source": [
    "mac.columns"
   ]
  },
  {
   "cell_type": "code",
   "execution_count": 150,
   "id": "32bb504d",
   "metadata": {},
   "outputs": [],
   "source": [
    "query = \"\"\"\n",
    "SELECT m.*\n",
    "    , v.vital_value as weight_kg\n",
    "    , v.recorded_dttm as weight_recorded_dttm\n",
    "    -- rn = 1 for the weight w/ the latest recorded_dttm (and thus most recent)\n",
    "    , ROW_NUMBER() OVER (\n",
    "        PARTITION BY m.hospitalization_id, m.admin_dttm, m.med_category\n",
    "        ORDER BY v.recorded_dttm DESC\n",
    "        ) as rn\n",
    "FROM mac m\n",
    "LEFT JOIN vitals v \n",
    "    ON m.hospitalization_id = v.hospitalization_id \n",
    "    AND v.vital_category = 'weight_kg'\n",
    "    AND v.recorded_dttm <= m.admin_dttm  -- only past weights\n",
    "QUALIFY (rn = 1) OR (weight_kg IS NULL) -- include meds even if no weight found\n",
    "ORDER BY m.hospitalization_id, m.admin_dttm, m.med_category, rn\n",
    "\"\"\"\n",
    "mac_w_wt = duckdb.sql(query).to_df()"
   ]
  },
  {
   "cell_type": "markdown",
   "id": "076297ca",
   "metadata": {},
   "source": [
    "### Standardize dosage unit"
   ]
  },
  {
   "cell_type": "code",
   "execution_count": 151,
   "id": "12342263",
   "metadata": {},
   "outputs": [],
   "source": [
    "def standardize_dose_unit(df_name: str) -> pd.DataFrame:\n",
    "    \"\"\"\n",
    "    Standardize everything to mcg/min.\n",
    "    Assumes the presentation of the following columns:\n",
    "    - med_dose_unit: the original unit of the dose\n",
    "    - med_dose: the original dose\n",
    "    - weight_kg: the (imputed, most recent) weight of the patient\n",
    "    \"\"\"\n",
    "    query = f\"\"\"\n",
    "    SELECT *\n",
    "        , LOWER(med_dose_unit) AS med_dose_unit_lower\n",
    "        , CASE WHEN regexp_matches(med_dose_unit_lower, '/h(r|our)?\\\\b') THEN 1/60.0\n",
    "            WHEN regexp_matches(med_dose_unit_lower, '/m(in|inute)?\\\\b') THEN 1.0\n",
    "            ELSE NULL END as time_multiplier\n",
    "        , CASE WHEN contains(med_dose_unit_lower, '/kg/') THEN weight_kg\n",
    "            ELSE 1 END AS pt_weight_adjustment\n",
    "        , CASE WHEN contains(med_dose_unit_lower, 'mcg/') THEN 1.0\n",
    "            WHEN contains(med_dose_unit_lower, 'mg/') THEN 1000.0\n",
    "            WHEN contains(med_dose_unit_lower, 'ng/') THEN 0.001\n",
    "            WHEN contains(med_dose_unit_lower, 'milli') THEN 0.001\n",
    "            ELSE NULL END as dose_mass_multiplier\n",
    "        , med_dose * time_multiplier * pt_weight_adjustment * dose_mass_multiplier as med_dose_converted\n",
    "        , CASE WHEN med_dose_unit_lower ~ 'units/' THEN 'units/min'\n",
    "            ELSE 'mcg/min' END as med_dose_unit_converted\n",
    "    FROM {df_name}\n",
    "    \"\"\"\n",
    "    return duckdb.sql(query).to_df()\n",
    "\n",
    "mac_converted = standardize_dose_unit('mac_w_wt')"
   ]
  },
  {
   "cell_type": "markdown",
   "id": "cceda369",
   "metadata": {},
   "source": [
    "### Scaffold cohort with med_categories"
   ]
  },
  {
   "cell_type": "code",
   "execution_count": 152,
   "id": "01efd104",
   "metadata": {},
   "outputs": [],
   "source": [
    "query = f\"\"\"\n",
    "SELECT *\n",
    "FROM cohort c\n",
    "CROSS JOIN (SELECT DISTINCT med_category FROM mac) m\n",
    "ORDER BY hospitalization_id, date_hr, med_category\n",
    "\"\"\"\n",
    "cohort_hrs_cross_med_categories = duckdb.sql(query).to_df()"
   ]
  },
  {
   "cell_type": "markdown",
   "id": "dd8bc95f",
   "metadata": {},
   "source": [
    "### Calculate cumulative dosage"
   ]
  },
  {
   "cell_type": "code",
   "execution_count": 165,
   "id": "4df3b204",
   "metadata": {},
   "outputs": [],
   "source": [
    "query = \"\"\"\n",
    "-- insert the cohort hours into the mac record\n",
    "SELECT hospitalization_id\n",
    "    , cohort_flag\n",
    "    , med_category\n",
    "    , date_hr\n",
    "    , admin_dttm\n",
    "    , mar_action_name\n",
    "    -- , med_dose, med_dose_unit\n",
    "    , med_dose_converted as med_dose\n",
    "    , med_dose_unit_converted as med_dose_unit\n",
    "    , weight_kg\n",
    "    , LAST_VALUE(admin_dttm IGNORE NULLS) OVER (\n",
    "        PARTITION BY hospitalization_id, med_category \n",
    "        ORDER BY date_hr, admin_dttm \n",
    "        ROWS BETWEEN UNBOUNDED PRECEDING AND 1 PRECEDING\n",
    "    ) as admin_dttm_last\n",
    "    , LAST_VALUE(med_dose IGNORE NULLS) OVER (\n",
    "        PARTITION BY hospitalization_id, med_category \n",
    "        ORDER BY date_hr, admin_dttm \n",
    "        ROWS BETWEEN UNBOUNDED PRECEDING AND 1 PRECEDING\n",
    "    ) as med_dose_last\n",
    "    , LAST_VALUE(mar_action_name IGNORE NULLS) OVER (\n",
    "        PARTITION BY hospitalization_id, med_category \n",
    "        ORDER BY date_hr, admin_dttm \n",
    "        ROWS BETWEEN UNBOUNDED PRECEDING AND 1 PRECEDING\n",
    "    ) as mar_action_name_last\n",
    "    -- add helper flags for first and last streak of the same med within the hour -- which needs special handling\n",
    "    , CASE WHEN admin_dttm = MIN(admin_dttm) OVER (PARTITION BY hospitalization_id, med_category, date_hr) \n",
    "        THEN 1 ELSE 0 END as is_first_streak\n",
    "    , CASE WHEN admin_dttm = MAX(admin_dttm) OVER (PARTITION BY hospitalization_id, med_category, date_hr) \n",
    "        THEN 1 ELSE 0 END as is_last_streak\n",
    "    , date_hr + INTERVAL '1 hour' as date_hr_next\n",
    "FROM cohort_hrs_cross_med_categories c\n",
    "FULL OUTER JOIN mac_converted m USING (hospitalization_id, date_hr, med_category)\n",
    "ORDER BY hospitalization_id, med_category, date_hr, admin_dttm\n",
    "\"\"\"\n",
    "mac_hrly = duckdb.sql(query).to_df()"
   ]
  },
  {
   "cell_type": "code",
   "execution_count": null,
   "id": "90c5a9c6",
   "metadata": {},
   "outputs": [],
   "source": [
    "# query = \"\"\"\n",
    "# SELECT *\n",
    "\n",
    "# FROM mac_hrly\n",
    "# ORDER BY hospitalization_id, med_category, date_hr, admin_dttm\n",
    "# \"\"\"\n",
    "# # forward filled\n",
    "# mac_hrly_ff = duckdb.sql(query).to_df()"
   ]
  },
  {
   "cell_type": "code",
   "execution_count": 163,
   "id": "4d77797c",
   "metadata": {},
   "outputs": [],
   "source": [
    "query = \"\"\"\n",
    "-- keep only the med admins that are within the cohort hours\n",
    "SELECT *\n",
    "FROM mac_hrly\n",
    "WHERE cohort_flag IS NOT NULL AND admin_dttm_last IS NOT NULL\n",
    "ORDER BY hospitalization_id, med_category, date_hr, admin_dttm\n",
    "\"\"\"\n",
    "mac_cohort_hrs = duckdb.sql(query).to_df()"
   ]
  },
  {
   "cell_type": "code",
   "execution_count": 198,
   "id": "0e399473",
   "metadata": {},
   "outputs": [
    {
     "data": {
      "text/plain": [
       "np.int64(27790)"
      ]
     },
     "execution_count": 198,
     "metadata": {},
     "output_type": "execute_result"
    }
   ],
   "source": [
    "mask = mac_cohort_hrs['cohort_flag'] == 'hr_24'\n",
    "mask.sum()"
   ]
  },
  {
   "cell_type": "code",
   "execution_count": 172,
   "id": "97cf627c",
   "metadata": {},
   "outputs": [],
   "source": [
    "query = \"\"\"\n",
    "-- calculate the cumulative dosage within the hr\n",
    "SELECT hospitalization_id, cohort_flag, med_category, date_hr\n",
    "    , SUM(CASE \n",
    "        -- if no mac admin record within the cohort hour, use the last observed dose and assume it runs the entire 60 mins\n",
    "        WHEN admin_dttm IS NULL\n",
    "            THEN 60.0 * med_dose_last \n",
    "        -- otherwise, calculate the cumulative dosage within the hr\n",
    "        WHEN is_first_streak = 1\n",
    "            THEN EXTRACT(EPOCH FROM (admin_dttm - date_hr))/60.0 * med_dose_last \n",
    "        WHEN is_first_streak != 1 AND admin_dttm IS NOT NULL\n",
    "            THEN EXTRACT(EPOCH FROM (admin_dttm - admin_dttm_last))/60.0 * med_dose_last \n",
    "        WHEN is_last_streak = 1\n",
    "            THEN EXTRACT(EPOCH FROM (date_hr_next - admin_dttm))/60.0 * med_dose\n",
    "        ELSE 0 END) as total_dosage\n",
    "    , 'mcg' as med_dose_unit\n",
    "FROM mac_cohort_hrs\n",
    "GROUP BY hospitalization_id, med_category, date_hr, cohort_flag, med_dose_unit\n",
    "ORDER BY hospitalization_id, med_category, date_hr\n",
    "\"\"\"\n",
    "mac_cohort_dosage = duckdb.sql(query).to_df()"
   ]
  },
  {
   "cell_type": "code",
   "execution_count": 190,
   "id": "a57b927f",
   "metadata": {},
   "outputs": [],
   "source": [
    "mac_cohort_dosage_w = mac_cohort_dosage.pivot_table(\n",
    "    index=['hospitalization_id', 'date_hr', 'cohort_flag'], \n",
    "    columns='med_category', \n",
    "    values='total_dosage', \n",
    "    fill_value=0\n",
    ").reset_index()\n",
    "mac_cohort_dosage_w.columns.name = None"
   ]
  },
  {
   "cell_type": "code",
   "execution_count": null,
   "id": "dc6a5fd8",
   "metadata": {},
   "outputs": [],
   "source": [
    "# query = \"\"\"\n",
    "# SELECT hospitalization_id\n",
    "#     , date_hr\n",
    "#     , cohort_flag\n",
    "#     , med_category\n",
    "#     , COALESCE(total_dosage, 0) as total_dosage\n",
    "#     , med_dose_unit\n",
    "# FROM cohort_hrs_cross_med_categories c\n",
    "# FULL OUTER JOIN mac_cohort_dosage m USING (hospitalization_id, date_hr, med_category, cohort_flag)\n",
    "# ORDER BY hospitalization_id, cohort_flag, med_category, date_hr\n",
    "# \"\"\"\n",
    "# df = duckdb.sql(query).to_df()"
   ]
  },
  {
   "cell_type": "code",
   "execution_count": 180,
   "id": "dd2eb267",
   "metadata": {},
   "outputs": [],
   "source": [
    "url=\"https://raw.githubusercontent.com/tompollard/data/master/primary-biliary-cirrhosis/pbc.csv\"\n",
    "data=pd.read_csv(url)"
   ]
  },
  {
   "cell_type": "code",
   "execution_count": 182,
   "id": "8c10b074",
   "metadata": {},
   "outputs": [
    {
     "data": {
      "text/plain": [
       "['dexmedetomidine',\n",
       " 'fentanyl',\n",
       " 'midazolam',\n",
       " 'propofol',\n",
       " 'hydromorphone',\n",
       " 'ketamine',\n",
       " 'lorazepam']"
      ]
     },
     "execution_count": 182,
     "metadata": {},
     "output_type": "execute_result"
    }
   ],
   "source": [
    "mac_cohort_dosage['med_category'].unique().tolist()"
   ]
  },
  {
   "cell_type": "code",
   "execution_count": 197,
   "id": "8717221d",
   "metadata": {},
   "outputs": [
    {
     "data": {
      "text/html": [
       "<div>\n",
       "<style scoped>\n",
       "    .dataframe tbody tr th:only-of-type {\n",
       "        vertical-align: middle;\n",
       "    }\n",
       "\n",
       "    .dataframe tbody tr th {\n",
       "        vertical-align: top;\n",
       "    }\n",
       "\n",
       "    .dataframe thead tr th {\n",
       "        text-align: left;\n",
       "    }\n",
       "</style>\n",
       "<table border=\"1\" class=\"dataframe\">\n",
       "  <thead>\n",
       "    <tr>\n",
       "      <th></th>\n",
       "      <th></th>\n",
       "      <th colspan=\"4\" halign=\"left\">Grouped by cohort_flag</th>\n",
       "    </tr>\n",
       "    <tr>\n",
       "      <th></th>\n",
       "      <th></th>\n",
       "      <th>Missing</th>\n",
       "      <th>Overall</th>\n",
       "      <th>hr_24</th>\n",
       "      <th>hr_72</th>\n",
       "    </tr>\n",
       "  </thead>\n",
       "  <tbody>\n",
       "    <tr>\n",
       "      <th>n</th>\n",
       "      <th></th>\n",
       "      <td></td>\n",
       "      <td>17319</td>\n",
       "      <td>12806</td>\n",
       "      <td>4513</td>\n",
       "    </tr>\n",
       "    <tr>\n",
       "      <th>dexmedetomidine, mean (SD)</th>\n",
       "      <th></th>\n",
       "      <td>0</td>\n",
       "      <td>3.8 (14.3)</td>\n",
       "      <td>2.9 (12.2)</td>\n",
       "      <td>6.2 (18.8)</td>\n",
       "    </tr>\n",
       "    <tr>\n",
       "      <th>fentanyl, mean (SD)</th>\n",
       "      <th></th>\n",
       "      <td>0</td>\n",
       "      <td>3043.8 (13359.1)</td>\n",
       "      <td>3117.8 (15301.4)</td>\n",
       "      <td>2834.0 (4523.4)</td>\n",
       "    </tr>\n",
       "    <tr>\n",
       "      <th>hydromorphone, mean (SD)</th>\n",
       "      <th></th>\n",
       "      <td>0</td>\n",
       "      <td>2.1 (21.2)</td>\n",
       "      <td>1.6 (18.1)</td>\n",
       "      <td>3.5 (28.1)</td>\n",
       "    </tr>\n",
       "    <tr>\n",
       "      <th>ketamine, mean (SD)</th>\n",
       "      <th></th>\n",
       "      <td>0</td>\n",
       "      <td>0.3 (3.4)</td>\n",
       "      <td>0.2 (3.1)</td>\n",
       "      <td>0.4 (4.2)</td>\n",
       "    </tr>\n",
       "    <tr>\n",
       "      <th>lorazepam, mean (SD)</th>\n",
       "      <th></th>\n",
       "      <td>0</td>\n",
       "      <td>0.1 (4.6)</td>\n",
       "      <td>0.1 (4.8)</td>\n",
       "      <td>0.1 (4.0)</td>\n",
       "    </tr>\n",
       "    <tr>\n",
       "      <th>midazolam, mean (SD)</th>\n",
       "      <th></th>\n",
       "      <td>0</td>\n",
       "      <td>38.4 (165.3)</td>\n",
       "      <td>37.0 (115.0)</td>\n",
       "      <td>42.3 (259.3)</td>\n",
       "    </tr>\n",
       "    <tr>\n",
       "      <th>propofol, mean (SD)</th>\n",
       "      <th></th>\n",
       "      <td>0</td>\n",
       "      <td>755.6 (1104.9)</td>\n",
       "      <td>813.7 (1138.7)</td>\n",
       "      <td>590.6 (984.4)</td>\n",
       "    </tr>\n",
       "  </tbody>\n",
       "</table>\n",
       "</div><br />"
      ],
      "text/plain": [
       "                            Grouped by cohort_flag                                                     \n",
       "                                           Missing           Overall             hr_24            hr_72\n",
       "n                                                              17319             12806             4513\n",
       "dexmedetomidine, mean (SD)                       0        3.8 (14.3)        2.9 (12.2)       6.2 (18.8)\n",
       "fentanyl, mean (SD)                              0  3043.8 (13359.1)  3117.8 (15301.4)  2834.0 (4523.4)\n",
       "hydromorphone, mean (SD)                         0        2.1 (21.2)        1.6 (18.1)       3.5 (28.1)\n",
       "ketamine, mean (SD)                              0         0.3 (3.4)         0.2 (3.1)        0.4 (4.2)\n",
       "lorazepam, mean (SD)                             0         0.1 (4.6)         0.1 (4.8)        0.1 (4.0)\n",
       "midazolam, mean (SD)                             0      38.4 (165.3)      37.0 (115.0)     42.3 (259.3)\n",
       "propofol, mean (SD)                              0    755.6 (1104.9)    813.7 (1138.7)    590.6 (984.4)"
      ]
     },
     "execution_count": 197,
     "metadata": {},
     "output_type": "execute_result"
    }
   ],
   "source": [
    "tableone.TableOne(\n",
    "    mac_cohort_dosage_w, \n",
    "    continuous=mac_cohort_dosage['med_category'].unique().tolist(), \n",
    "    categorical=[], \n",
    "    groupby='cohort_flag')"
   ]
  },
  {
   "cell_type": "code",
   "execution_count": null,
   "id": "535b627f",
   "metadata": {},
   "outputs": [],
   "source": []
  }
 ],
 "metadata": {
  "kernelspec": {
   "display_name": ".venv-sedation",
   "language": "python",
   "name": "python3"
  },
  "language_info": {
   "codemirror_mode": {
    "name": "ipython",
    "version": 3
   },
   "file_extension": ".py",
   "mimetype": "text/x-python",
   "name": "python",
   "nbconvert_exporter": "python",
   "pygments_lexer": "ipython3",
   "version": "3.10.4"
  }
 },
 "nbformat": 4,
 "nbformat_minor": 5
}
