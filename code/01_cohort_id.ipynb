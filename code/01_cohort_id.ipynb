{
 "cells": [
  {
   "cell_type": "markdown",
   "id": "db95619c",
   "metadata": {},
   "source": [
    "# Epidemiology of Sedation in Mechanical Ventilation"
   ]
  },
  {
   "cell_type": "code",
   "execution_count": 1,
   "id": "9757eb7c",
   "metadata": {},
   "outputs": [
    {
     "data": {
      "text/plain": [
       "'/Users/wliao0504/code/clif/CLIF-epi-of-sedation'"
      ]
     },
     "execution_count": 1,
     "metadata": {},
     "output_type": "execute_result"
    }
   ],
   "source": [
    "import os\n",
    "os.chdir(\"..\")\n",
    "os.getcwd()"
   ]
  },
  {
   "cell_type": "code",
   "execution_count": 53,
   "id": "8108d5b2",
   "metadata": {},
   "outputs": [],
   "source": [
    "import pandas as pd\n",
    "import duckdb\n",
    "from utils import pyCLIF as pc\n",
    "from utils.waterfall import process_resp_support_waterfall\n",
    "import pytest"
   ]
  },
  {
   "cell_type": "markdown",
   "id": "097baf93",
   "metadata": {},
   "source": [
    "## Cohort Identification"
   ]
  },
  {
   "cell_type": "code",
   "execution_count": 70,
   "id": "325f51b9",
   "metadata": {},
   "outputs": [
    {
     "name": "stdout",
     "output_type": "stream",
     "text": [
      "Data loaded successfully from /Users/wliao0504/code/clif/CLIF-MIMIC/output/rclif-dev-test-copy/clif_adt.parquet\n",
      "Data loaded successfully from /Users/wliao0504/code/clif/CLIF-MIMIC/output/rclif-dev-test-copy/clif_hospitalization.parquet\n"
     ]
    }
   ],
   "source": [
    "adt = pc.load_data(\"clif_adt\")\n",
    "hospitalization = pc.load_data(\"clif_hospitalization\")"
   ]
  },
  {
   "cell_type": "markdown",
   "id": "2459dbf0",
   "metadata": {},
   "source": [
    "### Create ICU-stay level unique id"
   ]
  },
  {
   "cell_type": "code",
   "execution_count": 72,
   "id": "a22d7118",
   "metadata": {},
   "outputs": [],
   "source": [
    "import warnings\n",
    "with warnings.catch_warnings():\n",
    "    warnings.filterwarnings(\"ignore\", category=FutureWarning)\n",
    "    stitched_encounters = pc.stitch_encounters(hospitalization, adt)"
   ]
  },
  {
   "cell_type": "code",
   "execution_count": null,
   "id": "f302c2be",
   "metadata": {},
   "outputs": [],
   "source": [
    "# create a mapping table\n",
    "query = \"\"\"\n",
    "SELECT DISTINCT patient_id, hospitalization_id, encounter_block\n",
    "FROM stitched_encounters\n",
    "\"\"\"\n",
    "hosp_to_enc_blk_mapper = duckdb.sql(query).to_df()"
   ]
  },
  {
   "cell_type": "code",
   "execution_count": 113,
   "id": "dfcfe9ce",
   "metadata": {},
   "outputs": [],
   "source": [
    "query = \"\"\"\n",
    "SELECT hospitalization_id\n",
    "    , encounter_block\n",
    "    , date_trunc('hour', in_dttm) as in_date_hr\n",
    "    , 1 as new_icu_stay\n",
    "FROM stitched_encounters\n",
    "WHERE location_category = 'icu'\n",
    "\"\"\"\n",
    "new_icu_start_hours = duckdb.sql(query).to_df()\n",
    "\n",
    "hosp_ids_w_icu_stays = new_icu_start_hours['hospitalization_id'].unique().tolist()"
   ]
  },
  {
   "cell_type": "markdown",
   "id": "231b1f5e",
   "metadata": {},
   "source": [
    "### Hr 24"
   ]
  },
  {
   "cell_type": "code",
   "execution_count": 94,
   "id": "9c711842",
   "metadata": {},
   "outputs": [
    {
     "name": "stdout",
     "output_type": "stream",
     "text": [
      "Data loaded successfully from /Users/wliao0504/code/clif/CLIF-MIMIC/output/rclif-dev-test-copy/clif_respiratory_support.parquet\n"
     ]
    }
   ],
   "source": [
    "resp = pc.load_data(\n",
    "    table = \"clif_respiratory_support\",\n",
    "    filters = {\n",
    "        \"hospitalization_id\": hosp_ids_w_icu_stays\n",
    "    }\n",
    "    )"
   ]
  },
  {
   "cell_type": "code",
   "execution_count": 95,
   "id": "e672c18c",
   "metadata": {},
   "outputs": [
    {
     "name": "stdout",
     "output_type": "stream",
     "text": [
      "✦ Phase 0: initialise & create hourly scaffold\n",
      "FIO2_SET mean= 0.4902933168490583 is within the required range\n",
      "Creating hourly scaffold for each encounter\n"
     ]
    },
    {
     "name": "stderr",
     "output_type": "stream",
     "text": [
      "Creating hourly scaffolds: 100%|██████████| 68063/68063 [00:03<00:00, 17112.98it/s]\n"
     ]
    },
    {
     "name": "stdout",
     "output_type": "stream",
     "text": [
      "✦ Phase 1: heuristic inference of device / mode\n",
      "✦ Phase 2: build device / mode hierarchical IDs\n",
      "✦ Phase 3: numeric down/up-fill inside mode_name_id blocks\n",
      "Applying waterfall fill to 68063 encounters...\n"
     ]
    },
    {
     "name": "stderr",
     "output_type": "stream",
     "text": [
      "Waterfall fill by mode_name_id: 100%|██████████| 417289/417289 [02:27<00:00, 4143.26it/s]/Users/wliao0504/code/clif/CLIF-epi-of-sedation/.venv-sedation/lib/python3.10/site-packages/tqdm/std.py:917: FutureWarning: DataFrameGroupBy.apply operated on the grouping columns. This behavior is deprecated, and in a future version of pandas the grouping columns will be excluded from the operation. Either pass `include_groups=False` to exclude the groupings or explicitly select the grouping columns after groupby to silence this warning.\n",
      "  return getattr(df, df_function)(wrapper, **kwargs)\n",
      "Waterfall fill by mode_name_id: 100%|██████████| 417289/417289 [02:46<00:00, 2502.64it/s]\n"
     ]
    },
    {
     "name": "stdout",
     "output_type": "stream",
     "text": [
      "✦ Phase 4: final deduplication & ordering\n",
      "[OK] Respiratory-support waterfall complete.\n"
     ]
    }
   ],
   "source": [
    "resp_f = process_resp_support_waterfall(resp)"
   ]
  },
  {
   "cell_type": "code",
   "execution_count": null,
   "id": "cd02d4e1",
   "metadata": {},
   "outputs": [],
   "source": [
    "focal_hosp_ids = ['21738444', '20004088', '20006154', '20018306']"
   ]
  },
  {
   "cell_type": "code",
   "execution_count": 112,
   "id": "630f21e5",
   "metadata": {},
   "outputs": [
    {
     "data": {
      "text/html": [
       "<div>\n",
       "<style scoped>\n",
       "    .dataframe tbody tr th:only-of-type {\n",
       "        vertical-align: middle;\n",
       "    }\n",
       "\n",
       "    .dataframe tbody tr th {\n",
       "        vertical-align: top;\n",
       "    }\n",
       "\n",
       "    .dataframe thead th {\n",
       "        text-align: right;\n",
       "    }\n",
       "</style>\n",
       "<table border=\"1\" class=\"dataframe\">\n",
       "  <thead>\n",
       "    <tr style=\"text-align: right;\">\n",
       "      <th></th>\n",
       "      <th>total_icu_stays</th>\n",
       "    </tr>\n",
       "  </thead>\n",
       "  <tbody>\n",
       "    <tr>\n",
       "      <th>0</th>\n",
       "      <td>6.0</td>\n",
       "    </tr>\n",
       "  </tbody>\n",
       "</table>\n",
       "</div>"
      ],
      "text/plain": [
       "   total_icu_stays\n",
       "0              6.0"
      ]
     },
     "execution_count": 112,
     "metadata": {},
     "output_type": "execute_result"
    }
   ],
   "source": [
    "query = f\"\"\"\n",
    "SELECT SUM(CASE WHEN location_category = 'icu' THEN 1 ELSE 0 END) as total_icu_stays\n",
    "FROM adt\n",
    "WHERE hospitalization_id IN ({\",\".join(focal_hosp_ids)})\n",
    "\"\"\"\n",
    "duckdb.sql(query).to_df()"
   ]
  },
  {
   "cell_type": "code",
   "execution_count": null,
   "id": "9fa1d99c",
   "metadata": {},
   "outputs": [
    {
     "ename": "BinderException",
     "evalue": "Binder Error: window function calls cannot be nested",
     "output_type": "error",
     "traceback": [
      "\u001b[0;31m---------------------------------------------------------------------------\u001b[0m",
      "\u001b[0;31mBinderException\u001b[0m                           Traceback (most recent call last)",
      "Cell \u001b[0;32mIn[115], line 36\u001b[0m\n\u001b[1;32m      1\u001b[0m resp_f[\u001b[38;5;124m'\u001b[39m\u001b[38;5;124mdate_hr\u001b[39m\u001b[38;5;124m'\u001b[39m] \u001b[38;5;241m=\u001b[39m resp_f[\u001b[38;5;124m'\u001b[39m\u001b[38;5;124mrecorded_dttm\u001b[39m\u001b[38;5;124m'\u001b[39m]\u001b[38;5;241m.\u001b[39mdt\u001b[38;5;241m.\u001b[39mfloor(\u001b[38;5;124m'\u001b[39m\u001b[38;5;124mh\u001b[39m\u001b[38;5;124m'\u001b[39m)\n\u001b[1;32m      3\u001b[0m query \u001b[38;5;241m=\u001b[39m \u001b[38;5;124mf\u001b[39m\u001b[38;5;124m\"\"\"\u001b[39m\n\u001b[1;32m      4\u001b[0m \u001b[38;5;124mSELECT t1.hospitalization_id\u001b[39m\n\u001b[1;32m      5\u001b[0m \u001b[38;5;124m    , t3.encounter_block\u001b[39m\n\u001b[0;32m   (...)\u001b[0m\n\u001b[1;32m     34\u001b[0m \u001b[38;5;124mORDER BY t1.hospitalization_id, t1.date_hr\u001b[39m\n\u001b[1;32m     35\u001b[0m \u001b[38;5;124m\"\"\"\u001b[39m\n\u001b[0;32m---> 36\u001b[0m df1 \u001b[38;5;241m=\u001b[39m \u001b[43mduckdb\u001b[49m\u001b[38;5;241;43m.\u001b[39;49m\u001b[43msql\u001b[49m\u001b[43m(\u001b[49m\u001b[43mquery\u001b[49m\u001b[43m)\u001b[49m\u001b[38;5;241m.\u001b[39mto_df()\n",
      "\u001b[0;31mBinderException\u001b[0m: Binder Error: window function calls cannot be nested"
     ]
    }
   ],
   "source": [
    "resp_f['date_hr'] = resp_f['recorded_dttm'].dt.floor('h')\n",
    "\n",
    "query = f\"\"\"\n",
    "SELECT t1.hospitalization_id\n",
    "    , t3.encounter_block\n",
    "    , t1.date_hr\n",
    "    , MAX(CASE WHEN t2.new_icu_stay = 1 THEN 1 ELSE 0 END) as new_icu_stay\n",
    "    , MAX(CASE WHEN device_category = 'imv' THEN 1 ELSE 0 END) as on_imv\n",
    "    , SUM(on_imv) OVER (\n",
    "        PARTITION BY t1.hospitalization_id, on_imv\n",
    "        ORDER BY date_hr \n",
    "        ROWS BETWEEN UNBOUNDED PRECEDING AND CURRENT ROW) as total_hrs_on_imv\n",
    "    , ROW_NUMBER() OVER (\n",
    "        PARTITION BY t1.hospitalization_id, on_imv\n",
    "        ORDER BY date_hr) as hr_index\n",
    "    , CASE WHEN (on_imv = 1) AND (hr_index = 24) AND (total_hrs_on_imv = 24) THEN 1 ELSE 0 END as hr_24_on_imv\n",
    "    , CASE WHEN (on_imv = 1) AND (hr_index = 72) AND (total_hrs_on_imv = 72) THEN 1 ELSE 0 END as hr_72_on_imv\n",
    "FROM resp_f as t1\n",
    "LEFT JOIN new_icu_start_hours AS t2\n",
    "    ON t1.hospitalization_id = t2.hospitalization_id\n",
    "    AND t1.date_hr = t2.in_date_hr\n",
    "LEFT JOIN hosp_to_enc_blk_mapper AS t3\n",
    "    ON t1.hospitalization_id = t3.hospitalization_id\n",
    "WHERE t1.hospitalization_id IN ({\",\".join(focal_hosp_ids)})\n",
    "GROUP BY t1.hospitalization_id, t1.date_hr, t3.encounter_block\n",
    "ORDER BY t1.hospitalization_id, t1.date_hr\n",
    "\"\"\"\n",
    "df1 = duckdb.sql(query).to_df()"
   ]
  },
  {
   "cell_type": "code",
   "execution_count": null,
   "id": "d8bfcf8d",
   "metadata": {},
   "outputs": [],
   "source": [
    "query = \"\"\"\n",
    "SELECT *\n",
    "FROM df1\n",
    "WHERE hospitalization_id IN (\n",
    "    SELECT DISTINCT hospitalization_id\n",
    "    FROM df1\n",
    "    WHERE hr_24_on_imv = 1\n",
    ")\n",
    "\"\"\"\n",
    "df2 = duckdb.sql(query).to_df()"
   ]
  },
  {
   "cell_type": "code",
   "execution_count": null,
   "id": "9a7da8e6",
   "metadata": {},
   "outputs": [
    {
     "name": "stdout",
     "output_type": "stream",
     "text": [
      "\u001b[32m.\u001b[0m\u001b[32m.\u001b[0m\u001b[32m.\u001b[0m\u001b[32m.\u001b[0m\u001b[32m.\u001b[0m\u001b[32m                                                                                        [100%]\u001b[0m\n",
      "\u001b[32m\u001b[32m\u001b[1m5 passed\u001b[0m\u001b[32m in 0.07s\u001b[0m\u001b[0m\n"
     ]
    }
   ],
   "source": [
    "%%ipytest\n",
    "\n",
    "@pytest.mark.parametrize(\"hospitalization_id,date_hr,expected_hr,expected_result\", [\n",
    "    # on imv for 24-hrs twice during the same hospitalization -- should not count the second streak?\n",
    "    (21738444, \"2186-09-14 17:00:00-06:00\", 24, 1),  \n",
    "    (21738444, \"2186-09-14 18:00:00-06:00\", 24, 0),  \n",
    "    (21738444, \"2186-09-16 18:00:00-06:00\", 24, 0),\n",
    "    # not on imv for the first few hrs\n",
    "    (20004088, \"2159-09-30 09:00:00-06:00\", 24, 1),\n",
    "    (20004088, \"2159-10-02 09:00:00-06:00\", 72, 1),\n",
    "    # very short streaks: 20006154\n",
    "])\n",
    "def test_if_on_imv_at_hr_x(hospitalization_id, date_hr, expected_hr, expected_result):\n",
    "    query = f\"\"\"\n",
    "    SELECT hr_{expected_hr}_on_imv\n",
    "    FROM df1\n",
    "    WHERE hospitalization_id = {hospitalization_id}\n",
    "    AND date_hour = '{date_hr}'\n",
    "    \"\"\"\n",
    "    result = duckdb.sql(query).to_df()\n",
    "    actual_result = result[f'hr_{expected_hr}_on_imv'].iloc[0]\n",
    "    assert actual_result == expected_result"
   ]
  },
  {
   "cell_type": "markdown",
   "id": "3d4cd8cf",
   "metadata": {},
   "source": [
    "## Resp"
   ]
  },
  {
   "cell_type": "code",
   "execution_count": null,
   "id": "8ff4200b",
   "metadata": {},
   "outputs": [],
   "source": []
  }
 ],
 "metadata": {
  "kernelspec": {
   "display_name": ".venv-sedation",
   "language": "python",
   "name": "python3"
  },
  "language_info": {
   "codemirror_mode": {
    "name": "ipython",
    "version": 3
   },
   "file_extension": ".py",
   "mimetype": "text/x-python",
   "name": "python",
   "nbconvert_exporter": "python",
   "pygments_lexer": "ipython3",
   "version": "3.10.4"
  }
 },
 "nbformat": 4,
 "nbformat_minor": 5
}
